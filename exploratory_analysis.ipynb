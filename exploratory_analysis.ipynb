{
 "cells": [
  {
   "cell_type": "code",
   "execution_count": 1,
   "id": "be828038-50a2-410a-8c84-5eaa6dcc0f0a",
   "metadata": {
    "tags": []
   },
   "outputs": [],
   "source": [
    "import json\n",
    "import pandas as pd\n",
    "import numpy as np\n",
    "import os"
   ]
  },
  {
   "cell_type": "code",
   "execution_count": 2,
   "id": "ba770305-1829-4a30-98b7-b81a36a26e6a",
   "metadata": {
    "tags": []
   },
   "outputs": [
    {
     "name": "stdout",
     "output_type": "stream",
     "text": [
      "      video_id trending_date  \\\n",
      "0  kzwfHumJyYc      17.14.11   \n",
      "1  zUZ1z7FwLc8      17.14.11   \n",
      "2  10L1hZ9qa58      17.14.11   \n",
      "3  N1vE8iiEg64      17.14.11   \n",
      "4  kJzGH0PVQHQ      17.14.11   \n",
      "\n",
      "                                               title    channel_title  \\\n",
      "0  Sharry Mann: Cute Munda ( Song Teaser) | Parmi...  Lokdhun Punjabi   \n",
      "1  à¤ªà¥à¤°à¤¿à¤¯à¤¡à¥à¤¸ à¤à¥ à¤¸à¤®à¤¯, à¤ª...          HJ NEWS   \n",
      "2  Stylish Star Allu Arjun @ ChaySam Wedding Rece...             TFPC   \n",
      "3                     Eruma Saani | Tamil vs English      Eruma Saani   \n",
      "4  why Samantha became EMOTIONAL @ Samantha naga ...       Filmylooks   \n",
      "\n",
      "        category_id              publish_time  \\\n",
      "0  Film & Animation  2017-11-12T12:20:39.000Z   \n",
      "1   News & Politics  2017-11-13T05:43:56.000Z   \n",
      "2     Entertainment  2017-11-12T15:48:08.000Z   \n",
      "3            Comedy  2017-11-12T07:08:48.000Z   \n",
      "4     Entertainment  2017-11-13T01:14:16.000Z   \n",
      "\n",
      "                                                tags    views  likes  \\\n",
      "0  sharry mann|\"sharry mann new song\"|\"sharry man...  1096327  33966   \n",
      "1  à¤ªà¥à¤°à¤¿à¤¯à¤¡à¥à¤¸ à¤à¥ à¤¸à¤®à¤¯|\"à¤ª...   590101    735   \n",
      "2  Stylish Star Allu Arjun @ ChaySam Wedding Rece...   473988   2011   \n",
      "3  Eruma Saani|\"Tamil Comedy Videos\"|\"Films\"|\"Mov...  1242680  70353   \n",
      "4  Filmylooks|\"latest news\"|\"telugu movies\"|\"telu...   464015    492   \n",
      "\n",
      "   dislikes  comment_count                                  thumbnail_link  \\\n",
      "0       798            882  https://i.ytimg.com/vi/kzwfHumJyYc/default.jpg   \n",
      "1       904              0  https://i.ytimg.com/vi/zUZ1z7FwLc8/default.jpg   \n",
      "2       243            149  https://i.ytimg.com/vi/10L1hZ9qa58/default.jpg   \n",
      "3      1624           2684  https://i.ytimg.com/vi/N1vE8iiEg64/default.jpg   \n",
      "4       293             66  https://i.ytimg.com/vi/kJzGH0PVQHQ/default.jpg   \n",
      "\n",
      "   comments_disabled  ratings_disabled  video_error_or_removed  \\\n",
      "0              False             False                   False   \n",
      "1               True             False                   False   \n",
      "2              False             False                   False   \n",
      "3              False             False                   False   \n",
      "4              False             False                   False   \n",
      "\n",
      "                                         description region  \n",
      "0  Presenting Sharry Mann latest Punjabi Song  Cu...     IN  \n",
      "1  à¤ªà¥à¤°à¤¿à¤¯à¤¡à¥à¤¸ à¤à¥ à¤¸à¤®à¤¯, à¤ª...     IN  \n",
      "2  Watch Stylish Star Allu Arjun @ ChaySam Weddin...     IN  \n",
      "3  This video showcases the difference between pe...     IN  \n",
      "4  why Samantha became EMOTIONAL @ Samantha naga ...     IN  \n"
     ]
    }
   ],
   "source": [
    "import json\n",
    "import pandas as pd\n",
    "\n",
    "# Cargar CSV y JSON de India\n",
    "path_in = \"C:/Users/Usuario/Desktop/master/practica final//pythonProject/data/crudos/INvideos.csv\"\n",
    "df_in = pd.read_csv(path_in, encoding='ISO-8859-1')\n",
    "\n",
    "# Cargar el archivo JSON de India\n",
    "in_json = json.load(open('C:/Users/Usuario/Desktop/master/practica final/pythonProject/data/crudos/IN_category_id.json'))\n",
    "\n",
    "# Crear un diccionario para mapear category_id a titles\n",
    "in_category_mapping = {int(item['id']): item['snippet']['title'] for item in in_json['items']}\n",
    "\n",
    "# Reemplazar category_id por su título correspondiente\n",
    "df_in['category_id'] = df_in['category_id'].map(in_category_mapping)\n",
    "\n",
    "# Agregar la columna de región\n",
    "df_in['region'] = 'IN'\n",
    "\n",
    "# Mostrar un ejemplo\n",
    "print(df_in.head())\n"
   ]
  },
  {
   "cell_type": "code",
   "execution_count": 3,
   "id": "379ebe22-e75b-450d-ab39-376a7f119098",
   "metadata": {
    "tags": []
   },
   "outputs": [
    {
     "name": "stdout",
     "output_type": "stream",
     "text": [
      "      video_id trending_date  \\\n",
      "0  kzwfHumJyYc      17.14.11   \n",
      "1  zUZ1z7FwLc8      17.14.11   \n",
      "2  10L1hZ9qa58      17.14.11   \n",
      "3  N1vE8iiEg64      17.14.11   \n",
      "4  kJzGH0PVQHQ      17.14.11   \n",
      "\n",
      "                                               title    channel_title  \\\n",
      "0  Sharry Mann: Cute Munda ( Song Teaser) | Parmi...  Lokdhun Punjabi   \n",
      "1  à¤ªà¥à¤°à¤¿à¤¯à¤¡à¥à¤¸ à¤à¥ à¤¸à¤®à¤¯, à¤ª...          HJ NEWS   \n",
      "2  Stylish Star Allu Arjun @ ChaySam Wedding Rece...             TFPC   \n",
      "3                     Eruma Saani | Tamil vs English      Eruma Saani   \n",
      "4  why Samantha became EMOTIONAL @ Samantha naga ...       Filmylooks   \n",
      "\n",
      "        category_id              publish_time  \\\n",
      "0  Film & Animation  2017-11-12T12:20:39.000Z   \n",
      "1   News & Politics  2017-11-13T05:43:56.000Z   \n",
      "2     Entertainment  2017-11-12T15:48:08.000Z   \n",
      "3            Comedy  2017-11-12T07:08:48.000Z   \n",
      "4     Entertainment  2017-11-13T01:14:16.000Z   \n",
      "\n",
      "                                                tags    views  likes  \\\n",
      "0  sharry mann|\"sharry mann new song\"|\"sharry man...  1096327  33966   \n",
      "1  à¤ªà¥à¤°à¤¿à¤¯à¤¡à¥à¤¸ à¤à¥ à¤¸à¤®à¤¯|\"à¤ª...   590101    735   \n",
      "2  Stylish Star Allu Arjun @ ChaySam Wedding Rece...   473988   2011   \n",
      "3  Eruma Saani|\"Tamil Comedy Videos\"|\"Films\"|\"Mov...  1242680  70353   \n",
      "4  Filmylooks|\"latest news\"|\"telugu movies\"|\"telu...   464015    492   \n",
      "\n",
      "   dislikes  comment_count                                  thumbnail_link  \\\n",
      "0       798            882  https://i.ytimg.com/vi/kzwfHumJyYc/default.jpg   \n",
      "1       904              0  https://i.ytimg.com/vi/zUZ1z7FwLc8/default.jpg   \n",
      "2       243            149  https://i.ytimg.com/vi/10L1hZ9qa58/default.jpg   \n",
      "3      1624           2684  https://i.ytimg.com/vi/N1vE8iiEg64/default.jpg   \n",
      "4       293             66  https://i.ytimg.com/vi/kJzGH0PVQHQ/default.jpg   \n",
      "\n",
      "   comments_disabled  ratings_disabled  video_error_or_removed  \\\n",
      "0              False             False                   False   \n",
      "1               True             False                   False   \n",
      "2              False             False                   False   \n",
      "3              False             False                   False   \n",
      "4              False             False                   False   \n",
      "\n",
      "                                         description region  \n",
      "0  Presenting Sharry Mann latest Punjabi Song  Cu...     JP  \n",
      "1  à¤ªà¥à¤°à¤¿à¤¯à¤¡à¥à¤¸ à¤à¥ à¤¸à¤®à¤¯, à¤ª...     JP  \n",
      "2  Watch Stylish Star Allu Arjun @ ChaySam Weddin...     JP  \n",
      "3  This video showcases the difference between pe...     JP  \n",
      "4  why Samantha became EMOTIONAL @ Samantha naga ...     JP  \n"
     ]
    }
   ],
   "source": [
    "import json\n",
    "import pandas as pd\n",
    "\n",
    "# Cargar CSV y JSON de India\n",
    "path_jp = \"C:/Users/Usuario/Desktop/master/practica final/pythonProject/data/crudos/JPvideos.csv\"\n",
    "df_jp = pd.read_csv(path_in, encoding='ISO-8859-1')\n",
    "\n",
    "# Cargar el archivo JSON de India\n",
    "jp_json = json.load(open('C:/Users/Usuario/Desktop/master/practica final/pythonProject/data/crudos/JP_category_id.json'))\n",
    "\n",
    "# Crear un diccionario para mapear category_id a titles\n",
    "jp_category_mapping = {int(item['id']): item['snippet']['title'] for item in jp_json['items']}\n",
    "\n",
    "# Reemplazar category_id por su título correspondiente\n",
    "df_jp['category_id'] = df_jp['category_id'].map(in_category_mapping)\n",
    "\n",
    "# Agregar la columna de región\n",
    "df_jp['region'] = 'JP'\n",
    "\n",
    "# Mostrar un ejemplo\n",
    "print(df_jp.head())\n"
   ]
  },
  {
   "cell_type": "code",
   "execution_count": 4,
   "id": "e9fef514-4f9b-4b3d-8f5a-54cd41278457",
   "metadata": {
    "tags": []
   },
   "outputs": [
    {
     "name": "stdout",
     "output_type": "stream",
     "text": [
      "      video_id trending_date  \\\n",
      "0  kzwfHumJyYc      17.14.11   \n",
      "1  zUZ1z7FwLc8      17.14.11   \n",
      "2  10L1hZ9qa58      17.14.11   \n",
      "3  N1vE8iiEg64      17.14.11   \n",
      "4  kJzGH0PVQHQ      17.14.11   \n",
      "\n",
      "                                               title    channel_title  \\\n",
      "0  Sharry Mann: Cute Munda ( Song Teaser) | Parmi...  Lokdhun Punjabi   \n",
      "1  à¤ªà¥à¤°à¤¿à¤¯à¤¡à¥à¤¸ à¤à¥ à¤¸à¤®à¤¯, à¤ª...          HJ NEWS   \n",
      "2  Stylish Star Allu Arjun @ ChaySam Wedding Rece...             TFPC   \n",
      "3                     Eruma Saani | Tamil vs English      Eruma Saani   \n",
      "4  why Samantha became EMOTIONAL @ Samantha naga ...       Filmylooks   \n",
      "\n",
      "        category_id              publish_time  \\\n",
      "0  Film & Animation  2017-11-12T12:20:39.000Z   \n",
      "1   News & Politics  2017-11-13T05:43:56.000Z   \n",
      "2     Entertainment  2017-11-12T15:48:08.000Z   \n",
      "3            Comedy  2017-11-12T07:08:48.000Z   \n",
      "4     Entertainment  2017-11-13T01:14:16.000Z   \n",
      "\n",
      "                                                tags    views  likes  \\\n",
      "0  sharry mann|\"sharry mann new song\"|\"sharry man...  1096327  33966   \n",
      "1  à¤ªà¥à¤°à¤¿à¤¯à¤¡à¥à¤¸ à¤à¥ à¤¸à¤®à¤¯|\"à¤ª...   590101    735   \n",
      "2  Stylish Star Allu Arjun @ ChaySam Wedding Rece...   473988   2011   \n",
      "3  Eruma Saani|\"Tamil Comedy Videos\"|\"Films\"|\"Mov...  1242680  70353   \n",
      "4  Filmylooks|\"latest news\"|\"telugu movies\"|\"telu...   464015    492   \n",
      "\n",
      "   dislikes  comment_count                                  thumbnail_link  \\\n",
      "0       798            882  https://i.ytimg.com/vi/kzwfHumJyYc/default.jpg   \n",
      "1       904              0  https://i.ytimg.com/vi/zUZ1z7FwLc8/default.jpg   \n",
      "2       243            149  https://i.ytimg.com/vi/10L1hZ9qa58/default.jpg   \n",
      "3      1624           2684  https://i.ytimg.com/vi/N1vE8iiEg64/default.jpg   \n",
      "4       293             66  https://i.ytimg.com/vi/kJzGH0PVQHQ/default.jpg   \n",
      "\n",
      "   comments_disabled  ratings_disabled  video_error_or_removed  \\\n",
      "0              False             False                   False   \n",
      "1               True             False                   False   \n",
      "2              False             False                   False   \n",
      "3              False             False                   False   \n",
      "4              False             False                   False   \n",
      "\n",
      "                                         description region  \n",
      "0  Presenting Sharry Mann latest Punjabi Song  Cu...     KR  \n",
      "1  à¤ªà¥à¤°à¤¿à¤¯à¤¡à¥à¤¸ à¤à¥ à¤¸à¤®à¤¯, à¤ª...     KR  \n",
      "2  Watch Stylish Star Allu Arjun @ ChaySam Weddin...     KR  \n",
      "3  This video showcases the difference between pe...     KR  \n",
      "4  why Samantha became EMOTIONAL @ Samantha naga ...     KR  \n"
     ]
    }
   ],
   "source": [
    "import json\n",
    "import pandas as pd\n",
    "\n",
    "# Cargar CSV y JSON de India\n",
    "path_kr = \"C:/Users/Usuario/Desktop/master/practica final/pythonProject/data/crudos/KRvideos.csv\"\n",
    "df_kr = pd.read_csv(path_in, encoding='ISO-8859-1')\n",
    "\n",
    "# Cargar el archivo JSON de India\n",
    "kr_json = json.load(open('C:/Users/Usuario/Desktop/master/practica final/pythonProject/data/crudos/KR_category_id.json'))\n",
    "\n",
    "# Crear un diccionario para mapear category_id a titles\n",
    "kr_category_mapping = {int(item['id']): item['snippet']['title'] for item in kr_json['items']}\n",
    "\n",
    "# Reemplazar category_id por su título correspondiente\n",
    "df_kr['category_id'] = df_kr['category_id'].map(in_category_mapping)\n",
    "\n",
    "# Agregar la columna de región\n",
    "df_kr['region'] = 'KR'\n",
    "\n",
    "# Mostrar un ejemplo\n",
    "print(df_kr.head())"
   ]
  },
  {
   "cell_type": "code",
   "execution_count": 5,
   "id": "86c702c4-d3c0-41c9-af78-a3a046423211",
   "metadata": {
    "tags": []
   },
   "outputs": [
    {
     "name": "stdout",
     "output_type": "stream",
     "text": [
      "      video_id trending_date  \\\n",
      "0  kzwfHumJyYc      17.14.11   \n",
      "1  zUZ1z7FwLc8      17.14.11   \n",
      "2  10L1hZ9qa58      17.14.11   \n",
      "3  N1vE8iiEg64      17.14.11   \n",
      "4  kJzGH0PVQHQ      17.14.11   \n",
      "\n",
      "                                               title    channel_title  \\\n",
      "0  Sharry Mann: Cute Munda ( Song Teaser) | Parmi...  Lokdhun Punjabi   \n",
      "1  à¤ªà¥à¤°à¤¿à¤¯à¤¡à¥à¤¸ à¤à¥ à¤¸à¤®à¤¯, à¤ª...          HJ NEWS   \n",
      "2  Stylish Star Allu Arjun @ ChaySam Wedding Rece...             TFPC   \n",
      "3                     Eruma Saani | Tamil vs English      Eruma Saani   \n",
      "4  why Samantha became EMOTIONAL @ Samantha naga ...       Filmylooks   \n",
      "\n",
      "        category_id              publish_time  \\\n",
      "0  Film & Animation  2017-11-12T12:20:39.000Z   \n",
      "1   News & Politics  2017-11-13T05:43:56.000Z   \n",
      "2     Entertainment  2017-11-12T15:48:08.000Z   \n",
      "3            Comedy  2017-11-12T07:08:48.000Z   \n",
      "4     Entertainment  2017-11-13T01:14:16.000Z   \n",
      "\n",
      "                                                tags    views  likes  \\\n",
      "0  sharry mann|\"sharry mann new song\"|\"sharry man...  1096327  33966   \n",
      "1  à¤ªà¥à¤°à¤¿à¤¯à¤¡à¥à¤¸ à¤à¥ à¤¸à¤®à¤¯|\"à¤ª...   590101    735   \n",
      "2  Stylish Star Allu Arjun @ ChaySam Wedding Rece...   473988   2011   \n",
      "3  Eruma Saani|\"Tamil Comedy Videos\"|\"Films\"|\"Mov...  1242680  70353   \n",
      "4  Filmylooks|\"latest news\"|\"telugu movies\"|\"telu...   464015    492   \n",
      "\n",
      "   dislikes  comment_count                                  thumbnail_link  \\\n",
      "0       798            882  https://i.ytimg.com/vi/kzwfHumJyYc/default.jpg   \n",
      "1       904              0  https://i.ytimg.com/vi/zUZ1z7FwLc8/default.jpg   \n",
      "2       243            149  https://i.ytimg.com/vi/10L1hZ9qa58/default.jpg   \n",
      "3      1624           2684  https://i.ytimg.com/vi/N1vE8iiEg64/default.jpg   \n",
      "4       293             66  https://i.ytimg.com/vi/kJzGH0PVQHQ/default.jpg   \n",
      "\n",
      "   comments_disabled  ratings_disabled  video_error_or_removed  \\\n",
      "0              False             False                   False   \n",
      "1               True             False                   False   \n",
      "2              False             False                   False   \n",
      "3              False             False                   False   \n",
      "4              False             False                   False   \n",
      "\n",
      "                                         description region  \n",
      "0  Presenting Sharry Mann latest Punjabi Song  Cu...     CA  \n",
      "1  à¤ªà¥à¤°à¤¿à¤¯à¤¡à¥à¤¸ à¤à¥ à¤¸à¤®à¤¯, à¤ª...     CA  \n",
      "2  Watch Stylish Star Allu Arjun @ ChaySam Weddin...     CA  \n",
      "3  This video showcases the difference between pe...     CA  \n",
      "4  why Samantha became EMOTIONAL @ Samantha naga ...     CA  \n"
     ]
    }
   ],
   "source": [
    "import json\n",
    "import pandas as pd\n",
    "\n",
    "# Cargar CSV y JSON de India\n",
    "path_ca = \"C:/Users/Usuario/Desktop/master/practica final/pythonProject/data/crudos/CAvideos.csv\"\n",
    "df_ca = pd.read_csv(path_in, encoding='ISO-8859-1')\n",
    "\n",
    "# Cargar el archivo JSON de India\n",
    "ca_json = json.load(open('C:/Users/Usuario/Desktop/master/practica final/pythonProject/data/crudos/CA_category_id.json'))\n",
    "\n",
    "# Crear un diccionario para mapear category_id a titles\n",
    "ca_category_mapping = {int(item['id']): item['snippet']['title'] for item in ca_json['items']}\n",
    "\n",
    "# Reemplazar category_id por su título correspondiente\n",
    "df_ca['category_id'] = df_ca['category_id'].map(ca_category_mapping)\n",
    "\n",
    "# Agregar la columna de región\n",
    "df_ca['region'] = 'CA'\n",
    "\n",
    "# Mostrar un ejemplo\n",
    "print(df_ca.head())"
   ]
  },
  {
   "cell_type": "code",
   "execution_count": 6,
   "id": "80f5f468-08a2-4eb1-b70e-1795aefc633b",
   "metadata": {
    "tags": []
   },
   "outputs": [
    {
     "name": "stdout",
     "output_type": "stream",
     "text": [
      "      video_id trending_date  \\\n",
      "0  kzwfHumJyYc      17.14.11   \n",
      "1  zUZ1z7FwLc8      17.14.11   \n",
      "2  10L1hZ9qa58      17.14.11   \n",
      "3  N1vE8iiEg64      17.14.11   \n",
      "4  kJzGH0PVQHQ      17.14.11   \n",
      "\n",
      "                                               title    channel_title  \\\n",
      "0  Sharry Mann: Cute Munda ( Song Teaser) | Parmi...  Lokdhun Punjabi   \n",
      "1  à¤ªà¥à¤°à¤¿à¤¯à¤¡à¥à¤¸ à¤à¥ à¤¸à¤®à¤¯, à¤ª...          HJ NEWS   \n",
      "2  Stylish Star Allu Arjun @ ChaySam Wedding Rece...             TFPC   \n",
      "3                     Eruma Saani | Tamil vs English      Eruma Saani   \n",
      "4  why Samantha became EMOTIONAL @ Samantha naga ...       Filmylooks   \n",
      "\n",
      "        category_id              publish_time  \\\n",
      "0  Film & Animation  2017-11-12T12:20:39.000Z   \n",
      "1   News & Politics  2017-11-13T05:43:56.000Z   \n",
      "2     Entertainment  2017-11-12T15:48:08.000Z   \n",
      "3            Comedy  2017-11-12T07:08:48.000Z   \n",
      "4     Entertainment  2017-11-13T01:14:16.000Z   \n",
      "\n",
      "                                                tags    views  likes  \\\n",
      "0  sharry mann|\"sharry mann new song\"|\"sharry man...  1096327  33966   \n",
      "1  à¤ªà¥à¤°à¤¿à¤¯à¤¡à¥à¤¸ à¤à¥ à¤¸à¤®à¤¯|\"à¤ª...   590101    735   \n",
      "2  Stylish Star Allu Arjun @ ChaySam Wedding Rece...   473988   2011   \n",
      "3  Eruma Saani|\"Tamil Comedy Videos\"|\"Films\"|\"Mov...  1242680  70353   \n",
      "4  Filmylooks|\"latest news\"|\"telugu movies\"|\"telu...   464015    492   \n",
      "\n",
      "   dislikes  comment_count                                  thumbnail_link  \\\n",
      "0       798            882  https://i.ytimg.com/vi/kzwfHumJyYc/default.jpg   \n",
      "1       904              0  https://i.ytimg.com/vi/zUZ1z7FwLc8/default.jpg   \n",
      "2       243            149  https://i.ytimg.com/vi/10L1hZ9qa58/default.jpg   \n",
      "3      1624           2684  https://i.ytimg.com/vi/N1vE8iiEg64/default.jpg   \n",
      "4       293             66  https://i.ytimg.com/vi/kJzGH0PVQHQ/default.jpg   \n",
      "\n",
      "   comments_disabled  ratings_disabled  video_error_or_removed  \\\n",
      "0              False             False                   False   \n",
      "1               True             False                   False   \n",
      "2              False             False                   False   \n",
      "3              False             False                   False   \n",
      "4              False             False                   False   \n",
      "\n",
      "                                         description region  \n",
      "0  Presenting Sharry Mann latest Punjabi Song  Cu...     DE  \n",
      "1  à¤ªà¥à¤°à¤¿à¤¯à¤¡à¥à¤¸ à¤à¥ à¤¸à¤®à¤¯, à¤ª...     DE  \n",
      "2  Watch Stylish Star Allu Arjun @ ChaySam Weddin...     DE  \n",
      "3  This video showcases the difference between pe...     DE  \n",
      "4  why Samantha became EMOTIONAL @ Samantha naga ...     DE  \n"
     ]
    }
   ],
   "source": [
    "import json\n",
    "import pandas as pd\n",
    "\n",
    "# Cargar CSV y JSON de India\n",
    "path_de = \"C:/Users/Usuario/Desktop/master/practica final/pythonProject/data/crudos/DEvideos.csv\"\n",
    "df_de = pd.read_csv(path_in, encoding='ISO-8859-1')\n",
    "\n",
    "# Cargar el archivo JSON de India\n",
    "de_json = json.load(open('C:/Users/Usuario/Desktop/master/practica final/pythonProject/data/crudos/DE_category_id.json'))\n",
    "\n",
    "# Crear un diccionario para mapear category_id a titles\n",
    "de_category_mapping = {int(item['id']): item['snippet']['title'] for item in de_json['items']}\n",
    "\n",
    "# Reemplazar category_id por su título correspondiente\n",
    "df_de['category_id'] = df_de['category_id'].map(ca_category_mapping)\n",
    "\n",
    "# Agregar la columna de región\n",
    "df_de['region'] = 'DE'\n",
    "\n",
    "# Mostrar un ejemplo\n",
    "print(df_de.head())\n"
   ]
  },
  {
   "cell_type": "code",
   "execution_count": 7,
   "id": "e71efe21-23c5-4705-a087-c3acec23e0f7",
   "metadata": {
    "tags": []
   },
   "outputs": [
    {
     "name": "stdout",
     "output_type": "stream",
     "text": [
      "      video_id trending_date  \\\n",
      "0  kzwfHumJyYc      17.14.11   \n",
      "1  zUZ1z7FwLc8      17.14.11   \n",
      "2  10L1hZ9qa58      17.14.11   \n",
      "3  N1vE8iiEg64      17.14.11   \n",
      "4  kJzGH0PVQHQ      17.14.11   \n",
      "\n",
      "                                               title    channel_title  \\\n",
      "0  Sharry Mann: Cute Munda ( Song Teaser) | Parmi...  Lokdhun Punjabi   \n",
      "1  à¤ªà¥à¤°à¤¿à¤¯à¤¡à¥à¤¸ à¤à¥ à¤¸à¤®à¤¯, à¤ª...          HJ NEWS   \n",
      "2  Stylish Star Allu Arjun @ ChaySam Wedding Rece...             TFPC   \n",
      "3                     Eruma Saani | Tamil vs English      Eruma Saani   \n",
      "4  why Samantha became EMOTIONAL @ Samantha naga ...       Filmylooks   \n",
      "\n",
      "        category_id              publish_time  \\\n",
      "0  Film & Animation  2017-11-12T12:20:39.000Z   \n",
      "1   News & Politics  2017-11-13T05:43:56.000Z   \n",
      "2     Entertainment  2017-11-12T15:48:08.000Z   \n",
      "3            Comedy  2017-11-12T07:08:48.000Z   \n",
      "4     Entertainment  2017-11-13T01:14:16.000Z   \n",
      "\n",
      "                                                tags    views  likes  \\\n",
      "0  sharry mann|\"sharry mann new song\"|\"sharry man...  1096327  33966   \n",
      "1  à¤ªà¥à¤°à¤¿à¤¯à¤¡à¥à¤¸ à¤à¥ à¤¸à¤®à¤¯|\"à¤ª...   590101    735   \n",
      "2  Stylish Star Allu Arjun @ ChaySam Wedding Rece...   473988   2011   \n",
      "3  Eruma Saani|\"Tamil Comedy Videos\"|\"Films\"|\"Mov...  1242680  70353   \n",
      "4  Filmylooks|\"latest news\"|\"telugu movies\"|\"telu...   464015    492   \n",
      "\n",
      "   dislikes  comment_count                                  thumbnail_link  \\\n",
      "0       798            882  https://i.ytimg.com/vi/kzwfHumJyYc/default.jpg   \n",
      "1       904              0  https://i.ytimg.com/vi/zUZ1z7FwLc8/default.jpg   \n",
      "2       243            149  https://i.ytimg.com/vi/10L1hZ9qa58/default.jpg   \n",
      "3      1624           2684  https://i.ytimg.com/vi/N1vE8iiEg64/default.jpg   \n",
      "4       293             66  https://i.ytimg.com/vi/kJzGH0PVQHQ/default.jpg   \n",
      "\n",
      "   comments_disabled  ratings_disabled  video_error_or_removed  \\\n",
      "0              False             False                   False   \n",
      "1               True             False                   False   \n",
      "2              False             False                   False   \n",
      "3              False             False                   False   \n",
      "4              False             False                   False   \n",
      "\n",
      "                                         description region  \n",
      "0  Presenting Sharry Mann latest Punjabi Song  Cu...     FR  \n",
      "1  à¤ªà¥à¤°à¤¿à¤¯à¤¡à¥à¤¸ à¤à¥ à¤¸à¤®à¤¯, à¤ª...     FR  \n",
      "2  Watch Stylish Star Allu Arjun @ ChaySam Weddin...     FR  \n",
      "3  This video showcases the difference between pe...     FR  \n",
      "4  why Samantha became EMOTIONAL @ Samantha naga ...     FR  \n"
     ]
    }
   ],
   "source": [
    "import json\n",
    "import pandas as pd\n",
    "\n",
    "# Cargar CSV y JSON de India\n",
    "path_fr = \"C:/Users/Usuario/Desktop/master/practica final/pythonProject/data/crudos/FRvideos.csv\"\n",
    "df_fr = pd.read_csv(path_in, encoding='ISO-8859-1')\n",
    "\n",
    "# Cargar el archivo JSON de India\n",
    "fr_json = json.load(open('C:/Users/Usuario/Desktop/master/practica final/pythonProject/data/crudos/FR_category_id.json'))\n",
    "\n",
    "# Crear un diccionario para mapear category_id a titles\n",
    "fr_category_mapping = {int(item['id']): item['snippet']['title'] for item in fr_json['items']}\n",
    "\n",
    "# Reemplazar category_id por su título correspondiente\n",
    "df_fr['category_id'] = df_fr['category_id'].map(ca_category_mapping)\n",
    "\n",
    "# Agregar la columna de región\n",
    "df_fr['region'] = 'FR'\n",
    "\n",
    "# Mostrar un ejemplo\n",
    "print(df_fr.head())"
   ]
  },
  {
   "cell_type": "code",
   "execution_count": 8,
   "id": "8b22ed8a-6916-45c5-8871-6cf67101e82e",
   "metadata": {
    "tags": []
   },
   "outputs": [
    {
     "name": "stdout",
     "output_type": "stream",
     "text": [
      "      video_id trending_date  \\\n",
      "0  kzwfHumJyYc      17.14.11   \n",
      "1  zUZ1z7FwLc8      17.14.11   \n",
      "2  10L1hZ9qa58      17.14.11   \n",
      "3  N1vE8iiEg64      17.14.11   \n",
      "4  kJzGH0PVQHQ      17.14.11   \n",
      "\n",
      "                                               title    channel_title  \\\n",
      "0  Sharry Mann: Cute Munda ( Song Teaser) | Parmi...  Lokdhun Punjabi   \n",
      "1  à¤ªà¥à¤°à¤¿à¤¯à¤¡à¥à¤¸ à¤à¥ à¤¸à¤®à¤¯, à¤ª...          HJ NEWS   \n",
      "2  Stylish Star Allu Arjun @ ChaySam Wedding Rece...             TFPC   \n",
      "3                     Eruma Saani | Tamil vs English      Eruma Saani   \n",
      "4  why Samantha became EMOTIONAL @ Samantha naga ...       Filmylooks   \n",
      "\n",
      "        category_id              publish_time  \\\n",
      "0  Film & Animation  2017-11-12T12:20:39.000Z   \n",
      "1   News & Politics  2017-11-13T05:43:56.000Z   \n",
      "2     Entertainment  2017-11-12T15:48:08.000Z   \n",
      "3            Comedy  2017-11-12T07:08:48.000Z   \n",
      "4     Entertainment  2017-11-13T01:14:16.000Z   \n",
      "\n",
      "                                                tags    views  likes  \\\n",
      "0  sharry mann|\"sharry mann new song\"|\"sharry man...  1096327  33966   \n",
      "1  à¤ªà¥à¤°à¤¿à¤¯à¤¡à¥à¤¸ à¤à¥ à¤¸à¤®à¤¯|\"à¤ª...   590101    735   \n",
      "2  Stylish Star Allu Arjun @ ChaySam Wedding Rece...   473988   2011   \n",
      "3  Eruma Saani|\"Tamil Comedy Videos\"|\"Films\"|\"Mov...  1242680  70353   \n",
      "4  Filmylooks|\"latest news\"|\"telugu movies\"|\"telu...   464015    492   \n",
      "\n",
      "   dislikes  comment_count                                  thumbnail_link  \\\n",
      "0       798            882  https://i.ytimg.com/vi/kzwfHumJyYc/default.jpg   \n",
      "1       904              0  https://i.ytimg.com/vi/zUZ1z7FwLc8/default.jpg   \n",
      "2       243            149  https://i.ytimg.com/vi/10L1hZ9qa58/default.jpg   \n",
      "3      1624           2684  https://i.ytimg.com/vi/N1vE8iiEg64/default.jpg   \n",
      "4       293             66  https://i.ytimg.com/vi/kJzGH0PVQHQ/default.jpg   \n",
      "\n",
      "   comments_disabled  ratings_disabled  video_error_or_removed  \\\n",
      "0              False             False                   False   \n",
      "1               True             False                   False   \n",
      "2              False             False                   False   \n",
      "3              False             False                   False   \n",
      "4              False             False                   False   \n",
      "\n",
      "                                         description region  \n",
      "0  Presenting Sharry Mann latest Punjabi Song  Cu...     MX  \n",
      "1  à¤ªà¥à¤°à¤¿à¤¯à¤¡à¥à¤¸ à¤à¥ à¤¸à¤®à¤¯, à¤ª...     MX  \n",
      "2  Watch Stylish Star Allu Arjun @ ChaySam Weddin...     MX  \n",
      "3  This video showcases the difference between pe...     MX  \n",
      "4  why Samantha became EMOTIONAL @ Samantha naga ...     MX  \n"
     ]
    }
   ],
   "source": [
    "import json\n",
    "import pandas as pd\n",
    "\n",
    "# Cargar CSV y JSON de India\n",
    "path_mx = \"C:/Users/Usuario/Desktop/master/practica final/pythonProject/data/crudos/MXvideos.csv\"\n",
    "df_mx = pd.read_csv(path_in, encoding='ISO-8859-1')\n",
    "\n",
    "# Cargar el archivo JSON de India\n",
    "mx_json = json.load(open('C:/Users/Usuario/Desktop/master/practica final/pythonProject/data/crudos/MX_category_id.json'))\n",
    "\n",
    "# Crear un diccionario para mapear category_id a titles\n",
    "mx_category_mapping = {int(item['id']): item['snippet']['title'] for item in mx_json['items']}\n",
    "\n",
    "# Reemplazar category_id por su título correspondiente\n",
    "df_mx['category_id'] = df_mx['category_id'].map(ca_category_mapping)\n",
    "\n",
    "# Agregar la columna de región\n",
    "df_mx['region'] = 'MX'\n",
    "\n",
    "# Mostrar un ejemplo\n",
    "print(df_mx.head())"
   ]
  },
  {
   "cell_type": "code",
   "execution_count": 9,
   "id": "fd3e0778-22ba-472d-98af-0367f4081208",
   "metadata": {
    "tags": []
   },
   "outputs": [
    {
     "name": "stdout",
     "output_type": "stream",
     "text": [
      "      video_id trending_date  \\\n",
      "0  kzwfHumJyYc      17.14.11   \n",
      "1  zUZ1z7FwLc8      17.14.11   \n",
      "2  10L1hZ9qa58      17.14.11   \n",
      "3  N1vE8iiEg64      17.14.11   \n",
      "4  kJzGH0PVQHQ      17.14.11   \n",
      "\n",
      "                                               title    channel_title  \\\n",
      "0  Sharry Mann: Cute Munda ( Song Teaser) | Parmi...  Lokdhun Punjabi   \n",
      "1  à¤ªà¥à¤°à¤¿à¤¯à¤¡à¥à¤¸ à¤à¥ à¤¸à¤®à¤¯, à¤ª...          HJ NEWS   \n",
      "2  Stylish Star Allu Arjun @ ChaySam Wedding Rece...             TFPC   \n",
      "3                     Eruma Saani | Tamil vs English      Eruma Saani   \n",
      "4  why Samantha became EMOTIONAL @ Samantha naga ...       Filmylooks   \n",
      "\n",
      "        category_id              publish_time  \\\n",
      "0  Film & Animation  2017-11-12T12:20:39.000Z   \n",
      "1   News & Politics  2017-11-13T05:43:56.000Z   \n",
      "2     Entertainment  2017-11-12T15:48:08.000Z   \n",
      "3            Comedy  2017-11-12T07:08:48.000Z   \n",
      "4     Entertainment  2017-11-13T01:14:16.000Z   \n",
      "\n",
      "                                                tags    views  likes  \\\n",
      "0  sharry mann|\"sharry mann new song\"|\"sharry man...  1096327  33966   \n",
      "1  à¤ªà¥à¤°à¤¿à¤¯à¤¡à¥à¤¸ à¤à¥ à¤¸à¤®à¤¯|\"à¤ª...   590101    735   \n",
      "2  Stylish Star Allu Arjun @ ChaySam Wedding Rece...   473988   2011   \n",
      "3  Eruma Saani|\"Tamil Comedy Videos\"|\"Films\"|\"Mov...  1242680  70353   \n",
      "4  Filmylooks|\"latest news\"|\"telugu movies\"|\"telu...   464015    492   \n",
      "\n",
      "   dislikes  comment_count                                  thumbnail_link  \\\n",
      "0       798            882  https://i.ytimg.com/vi/kzwfHumJyYc/default.jpg   \n",
      "1       904              0  https://i.ytimg.com/vi/zUZ1z7FwLc8/default.jpg   \n",
      "2       243            149  https://i.ytimg.com/vi/10L1hZ9qa58/default.jpg   \n",
      "3      1624           2684  https://i.ytimg.com/vi/N1vE8iiEg64/default.jpg   \n",
      "4       293             66  https://i.ytimg.com/vi/kJzGH0PVQHQ/default.jpg   \n",
      "\n",
      "   comments_disabled  ratings_disabled  video_error_or_removed  \\\n",
      "0              False             False                   False   \n",
      "1               True             False                   False   \n",
      "2              False             False                   False   \n",
      "3              False             False                   False   \n",
      "4              False             False                   False   \n",
      "\n",
      "                                         description region  \n",
      "0  Presenting Sharry Mann latest Punjabi Song  Cu...     RU  \n",
      "1  à¤ªà¥à¤°à¤¿à¤¯à¤¡à¥à¤¸ à¤à¥ à¤¸à¤®à¤¯, à¤ª...     RU  \n",
      "2  Watch Stylish Star Allu Arjun @ ChaySam Weddin...     RU  \n",
      "3  This video showcases the difference between pe...     RU  \n",
      "4  why Samantha became EMOTIONAL @ Samantha naga ...     RU  \n"
     ]
    }
   ],
   "source": [
    "import json\n",
    "import pandas as pd\n",
    "\n",
    "# Cargar CSV y JSON de India\n",
    "path_ru = \"C:/Users/Usuario/Desktop/master/practica final/pythonProject/data/crudos/RUvideos.csv\"\n",
    "df_ru = pd.read_csv(path_in, encoding='ISO-8859-1')\n",
    "\n",
    "# Cargar el archivo JSON de India\n",
    "ru_json = json.load(open('C:/Users/Usuario/Desktop/master/practica final/pythonProject/data/crudos/RU_category_id.json'))\n",
    "\n",
    "# Crear un diccionario para mapear category_id a titles\n",
    "ru_category_mapping = {int(item['id']): item['snippet']['title'] for item in ru_json['items']}\n",
    "\n",
    "# Reemplazar category_id por su título correspondiente\n",
    "df_ru['category_id'] = df_ru['category_id'].map(ca_category_mapping)\n",
    "\n",
    "# Agregar la columna de región\n",
    "df_ru['region'] = 'RU'\n",
    "\n",
    "# Mostrar un ejemplo\n",
    "print(df_ru.head())"
   ]
  },
  {
   "cell_type": "code",
   "execution_count": 10,
   "id": "69dbe445-f294-421b-a6ad-6e1fa89ee5e7",
   "metadata": {
    "tags": []
   },
   "outputs": [
    {
     "name": "stdout",
     "output_type": "stream",
     "text": [
      "      video_id trending_date  \\\n",
      "0  kzwfHumJyYc      17.14.11   \n",
      "1  zUZ1z7FwLc8      17.14.11   \n",
      "2  10L1hZ9qa58      17.14.11   \n",
      "3  N1vE8iiEg64      17.14.11   \n",
      "4  kJzGH0PVQHQ      17.14.11   \n",
      "\n",
      "                                               title    channel_title  \\\n",
      "0  Sharry Mann: Cute Munda ( Song Teaser) | Parmi...  Lokdhun Punjabi   \n",
      "1  à¤ªà¥à¤°à¤¿à¤¯à¤¡à¥à¤¸ à¤à¥ à¤¸à¤®à¤¯, à¤ª...          HJ NEWS   \n",
      "2  Stylish Star Allu Arjun @ ChaySam Wedding Rece...             TFPC   \n",
      "3                     Eruma Saani | Tamil vs English      Eruma Saani   \n",
      "4  why Samantha became EMOTIONAL @ Samantha naga ...       Filmylooks   \n",
      "\n",
      "        category_id              publish_time  \\\n",
      "0  Film & Animation  2017-11-12T12:20:39.000Z   \n",
      "1   News & Politics  2017-11-13T05:43:56.000Z   \n",
      "2     Entertainment  2017-11-12T15:48:08.000Z   \n",
      "3            Comedy  2017-11-12T07:08:48.000Z   \n",
      "4     Entertainment  2017-11-13T01:14:16.000Z   \n",
      "\n",
      "                                                tags    views  likes  \\\n",
      "0  sharry mann|\"sharry mann new song\"|\"sharry man...  1096327  33966   \n",
      "1  à¤ªà¥à¤°à¤¿à¤¯à¤¡à¥à¤¸ à¤à¥ à¤¸à¤®à¤¯|\"à¤ª...   590101    735   \n",
      "2  Stylish Star Allu Arjun @ ChaySam Wedding Rece...   473988   2011   \n",
      "3  Eruma Saani|\"Tamil Comedy Videos\"|\"Films\"|\"Mov...  1242680  70353   \n",
      "4  Filmylooks|\"latest news\"|\"telugu movies\"|\"telu...   464015    492   \n",
      "\n",
      "   dislikes  comment_count                                  thumbnail_link  \\\n",
      "0       798            882  https://i.ytimg.com/vi/kzwfHumJyYc/default.jpg   \n",
      "1       904              0  https://i.ytimg.com/vi/zUZ1z7FwLc8/default.jpg   \n",
      "2       243            149  https://i.ytimg.com/vi/10L1hZ9qa58/default.jpg   \n",
      "3      1624           2684  https://i.ytimg.com/vi/N1vE8iiEg64/default.jpg   \n",
      "4       293             66  https://i.ytimg.com/vi/kJzGH0PVQHQ/default.jpg   \n",
      "\n",
      "   comments_disabled  ratings_disabled  video_error_or_removed  \\\n",
      "0              False             False                   False   \n",
      "1               True             False                   False   \n",
      "2              False             False                   False   \n",
      "3              False             False                   False   \n",
      "4              False             False                   False   \n",
      "\n",
      "                                         description region  \n",
      "0  Presenting Sharry Mann latest Punjabi Song  Cu...     US  \n",
      "1  à¤ªà¥à¤°à¤¿à¤¯à¤¡à¥à¤¸ à¤à¥ à¤¸à¤®à¤¯, à¤ª...     US  \n",
      "2  Watch Stylish Star Allu Arjun @ ChaySam Weddin...     US  \n",
      "3  This video showcases the difference between pe...     US  \n",
      "4  why Samantha became EMOTIONAL @ Samantha naga ...     US  \n"
     ]
    }
   ],
   "source": [
    "import json\n",
    "import pandas as pd\n",
    "\n",
    "# Cargar CSV y JSON de India\n",
    "path_us = \"C:/Users/Usuario/Desktop/master/practica final/pythonProject/data/crudos/USvideos.csv\"\n",
    "df_us = pd.read_csv(path_in, encoding='ISO-8859-1')\n",
    "\n",
    "# Cargar el archivo JSON de India\n",
    "us_json = json.load(open('C:/Users/Usuario/Desktop/master/practica final/pythonProject/data/crudos/US_category_id.json'))\n",
    "\n",
    "# Crear un diccionario para mapear category_id a titles\n",
    "us_category_mapping = {int(item['id']): item['snippet']['title'] for item in us_json['items']}\n",
    "\n",
    "# Reemplazar category_id por su título correspondiente\n",
    "df_us['category_id'] = df_us['category_id'].map(ca_category_mapping)\n",
    "\n",
    "# Agregar la columna de región\n",
    "df_us['region'] = 'US'\n",
    "\n",
    "# Mostrar un ejemplo\n",
    "print(df_us.head())"
   ]
  },
  {
   "cell_type": "code",
   "execution_count": 11,
   "id": "ff1b24f3-ff78-4be1-b114-2802b4f79faa",
   "metadata": {
    "tags": []
   },
   "outputs": [
    {
     "name": "stdout",
     "output_type": "stream",
     "text": [
      "      video_id trending_date  \\\n",
      "0  kzwfHumJyYc      17.14.11   \n",
      "1  zUZ1z7FwLc8      17.14.11   \n",
      "2  10L1hZ9qa58      17.14.11   \n",
      "3  N1vE8iiEg64      17.14.11   \n",
      "4  kJzGH0PVQHQ      17.14.11   \n",
      "\n",
      "                                               title    channel_title  \\\n",
      "0  Sharry Mann: Cute Munda ( Song Teaser) | Parmi...  Lokdhun Punjabi   \n",
      "1  à¤ªà¥à¤°à¤¿à¤¯à¤¡à¥à¤¸ à¤à¥ à¤¸à¤®à¤¯, à¤ª...          HJ NEWS   \n",
      "2  Stylish Star Allu Arjun @ ChaySam Wedding Rece...             TFPC   \n",
      "3                     Eruma Saani | Tamil vs English      Eruma Saani   \n",
      "4  why Samantha became EMOTIONAL @ Samantha naga ...       Filmylooks   \n",
      "\n",
      "        category_id              publish_time  \\\n",
      "0  Film & Animation  2017-11-12T12:20:39.000Z   \n",
      "1   News & Politics  2017-11-13T05:43:56.000Z   \n",
      "2     Entertainment  2017-11-12T15:48:08.000Z   \n",
      "3            Comedy  2017-11-12T07:08:48.000Z   \n",
      "4     Entertainment  2017-11-13T01:14:16.000Z   \n",
      "\n",
      "                                                tags    views  likes  \\\n",
      "0  sharry mann|\"sharry mann new song\"|\"sharry man...  1096327  33966   \n",
      "1  à¤ªà¥à¤°à¤¿à¤¯à¤¡à¥à¤¸ à¤à¥ à¤¸à¤®à¤¯|\"à¤ª...   590101    735   \n",
      "2  Stylish Star Allu Arjun @ ChaySam Wedding Rece...   473988   2011   \n",
      "3  Eruma Saani|\"Tamil Comedy Videos\"|\"Films\"|\"Mov...  1242680  70353   \n",
      "4  Filmylooks|\"latest news\"|\"telugu movies\"|\"telu...   464015    492   \n",
      "\n",
      "   dislikes  comment_count                                  thumbnail_link  \\\n",
      "0       798            882  https://i.ytimg.com/vi/kzwfHumJyYc/default.jpg   \n",
      "1       904              0  https://i.ytimg.com/vi/zUZ1z7FwLc8/default.jpg   \n",
      "2       243            149  https://i.ytimg.com/vi/10L1hZ9qa58/default.jpg   \n",
      "3      1624           2684  https://i.ytimg.com/vi/N1vE8iiEg64/default.jpg   \n",
      "4       293             66  https://i.ytimg.com/vi/kJzGH0PVQHQ/default.jpg   \n",
      "\n",
      "   comments_disabled  ratings_disabled  video_error_or_removed  \\\n",
      "0              False             False                   False   \n",
      "1               True             False                   False   \n",
      "2              False             False                   False   \n",
      "3              False             False                   False   \n",
      "4              False             False                   False   \n",
      "\n",
      "                                         description region  \n",
      "0  Presenting Sharry Mann latest Punjabi Song  Cu...     GB  \n",
      "1  à¤ªà¥à¤°à¤¿à¤¯à¤¡à¥à¤¸ à¤à¥ à¤¸à¤®à¤¯, à¤ª...     GB  \n",
      "2  Watch Stylish Star Allu Arjun @ ChaySam Weddin...     GB  \n",
      "3  This video showcases the difference between pe...     GB  \n",
      "4  why Samantha became EMOTIONAL @ Samantha naga ...     GB  \n"
     ]
    }
   ],
   "source": [
    "import json\n",
    "import pandas as pd\n",
    "\n",
    "# Cargar CSV y JSON de India\n",
    "path_gb = \"C:/Users/Usuario/Desktop/master/practica final/pythonProject/data/crudos/GBvideos.csv\"\n",
    "df_gb = pd.read_csv(path_in, encoding='ISO-8859-1')\n",
    "\n",
    "# Cargar el archivo JSON de India\n",
    "gb_json = json.load(open('C:/Users/Usuario/Desktop/master/practica final/pythonProject/data/crudos/GB_category_id.json'))\n",
    "\n",
    "# Crear un diccionario para mapear category_id a titles\n",
    "gb_category_mapping = {int(item['id']): item['snippet']['title'] for item in gb_json['items']}\n",
    "\n",
    "# Reemplazar category_id por su título correspondiente\n",
    "df_gb['category_id'] = df_gb['category_id'].map(ca_category_mapping)\n",
    "\n",
    "# Agregar la columna de región\n",
    "df_gb['region'] = 'GB'\n",
    "\n",
    "# Mostrar un ejemplo\n",
    "print(df_gb.head())"
   ]
  },
  {
   "cell_type": "code",
   "execution_count": 12,
   "id": "0700694b-ef94-4994-87a8-bd7bbf5f95a6",
   "metadata": {
    "tags": []
   },
   "outputs": [
    {
     "name": "stdout",
     "output_type": "stream",
     "text": [
      "      video_id trending_date  \\\n",
      "0  kzwfHumJyYc      17.14.11   \n",
      "1  zUZ1z7FwLc8      17.14.11   \n",
      "2  10L1hZ9qa58      17.14.11   \n",
      "3  N1vE8iiEg64      17.14.11   \n",
      "4  kJzGH0PVQHQ      17.14.11   \n",
      "\n",
      "                                               title    channel_title  \\\n",
      "0  Sharry Mann: Cute Munda ( Song Teaser) | Parmi...  Lokdhun Punjabi   \n",
      "1  à¤ªà¥à¤°à¤¿à¤¯à¤¡à¥à¤¸ à¤à¥ à¤¸à¤®à¤¯, à¤ª...          HJ NEWS   \n",
      "2  Stylish Star Allu Arjun @ ChaySam Wedding Rece...             TFPC   \n",
      "3                     Eruma Saani | Tamil vs English      Eruma Saani   \n",
      "4  why Samantha became EMOTIONAL @ Samantha naga ...       Filmylooks   \n",
      "\n",
      "        category_id              publish_time  \\\n",
      "0  Film & Animation  2017-11-12T12:20:39.000Z   \n",
      "1   News & Politics  2017-11-13T05:43:56.000Z   \n",
      "2     Entertainment  2017-11-12T15:48:08.000Z   \n",
      "3            Comedy  2017-11-12T07:08:48.000Z   \n",
      "4     Entertainment  2017-11-13T01:14:16.000Z   \n",
      "\n",
      "                                                tags    views  likes  \\\n",
      "0  sharry mann|\"sharry mann new song\"|\"sharry man...  1096327  33966   \n",
      "1  à¤ªà¥à¤°à¤¿à¤¯à¤¡à¥à¤¸ à¤à¥ à¤¸à¤®à¤¯|\"à¤ª...   590101    735   \n",
      "2  Stylish Star Allu Arjun @ ChaySam Wedding Rece...   473988   2011   \n",
      "3  Eruma Saani|\"Tamil Comedy Videos\"|\"Films\"|\"Mov...  1242680  70353   \n",
      "4  Filmylooks|\"latest news\"|\"telugu movies\"|\"telu...   464015    492   \n",
      "\n",
      "   dislikes  comment_count                                  thumbnail_link  \\\n",
      "0       798            882  https://i.ytimg.com/vi/kzwfHumJyYc/default.jpg   \n",
      "1       904              0  https://i.ytimg.com/vi/zUZ1z7FwLc8/default.jpg   \n",
      "2       243            149  https://i.ytimg.com/vi/10L1hZ9qa58/default.jpg   \n",
      "3      1624           2684  https://i.ytimg.com/vi/N1vE8iiEg64/default.jpg   \n",
      "4       293             66  https://i.ytimg.com/vi/kJzGH0PVQHQ/default.jpg   \n",
      "\n",
      "   comments_disabled  ratings_disabled  video_error_or_removed  \\\n",
      "0              False             False                   False   \n",
      "1               True             False                   False   \n",
      "2              False             False                   False   \n",
      "3              False             False                   False   \n",
      "4              False             False                   False   \n",
      "\n",
      "                                         description region  \n",
      "0  Presenting Sharry Mann latest Punjabi Song  Cu...     IN  \n",
      "1  à¤ªà¥à¤°à¤¿à¤¯à¤¡à¥à¤¸ à¤à¥ à¤¸à¤®à¤¯, à¤ª...     IN  \n",
      "2  Watch Stylish Star Allu Arjun @ ChaySam Weddin...     IN  \n",
      "3  This video showcases the difference between pe...     IN  \n",
      "4  why Samantha became EMOTIONAL @ Samantha naga ...     IN  \n"
     ]
    }
   ],
   "source": [
    "### Combinacion de los dataframes\n",
    "combined_df = pd.concat([df_in, df_jp, df_kr, df_ca, df_de, df_fr, df_gb, df_mx, df_ru, df_us])\n",
    "                                    \n",
    "### Guardar el dataframe combinado en un nuevo archivo csv\n",
    "combined_df.to_csv(\"C:/Users/Usuario/Desktop/master/practica final/pythonProject/data/procesados/combined_videos_trabajo.csv\", index=False)\n",
    "\n",
    "print(combined_df.head())"
   ]
  },
  {
   "cell_type": "markdown",
   "id": "257f3559-5a09-40fc-8339-fe86da73d3f6",
   "metadata": {},
   "source": [
    "CARGA Y VISUALIZACION INICIAL DEL CONJUNTO DE DATOS"
   ]
  },
  {
   "cell_type": "code",
   "execution_count": 14,
   "id": "3083a088-f0c2-42a8-9f10-ee724b27a4a0",
   "metadata": {
    "tags": []
   },
   "outputs": [
    {
     "data": {
      "text/html": [
       "<div>\n",
       "<style scoped>\n",
       "    .dataframe tbody tr th:only-of-type {\n",
       "        vertical-align: middle;\n",
       "    }\n",
       "\n",
       "    .dataframe tbody tr th {\n",
       "        vertical-align: top;\n",
       "    }\n",
       "\n",
       "    .dataframe thead th {\n",
       "        text-align: right;\n",
       "    }\n",
       "</style>\n",
       "<table border=\"1\" class=\"dataframe\">\n",
       "  <thead>\n",
       "    <tr style=\"text-align: right;\">\n",
       "      <th></th>\n",
       "      <th>video_id</th>\n",
       "      <th>trending_date</th>\n",
       "      <th>title</th>\n",
       "      <th>channel_title</th>\n",
       "      <th>category_id</th>\n",
       "      <th>publish_time</th>\n",
       "      <th>tags</th>\n",
       "      <th>views</th>\n",
       "      <th>likes</th>\n",
       "      <th>dislikes</th>\n",
       "      <th>comment_count</th>\n",
       "      <th>thumbnail_link</th>\n",
       "      <th>comments_disabled</th>\n",
       "      <th>ratings_disabled</th>\n",
       "      <th>video_error_or_removed</th>\n",
       "      <th>description</th>\n",
       "      <th>region</th>\n",
       "    </tr>\n",
       "  </thead>\n",
       "  <tbody>\n",
       "    <tr>\n",
       "      <th>0</th>\n",
       "      <td>kzwfHumJyYc</td>\n",
       "      <td>17.14.11</td>\n",
       "      <td>Sharry Mann: Cute Munda ( Song Teaser) | Parmi...</td>\n",
       "      <td>Lokdhun Punjabi</td>\n",
       "      <td>Film &amp; Animation</td>\n",
       "      <td>2017-11-12T12:20:39.000Z</td>\n",
       "      <td>sharry mann|\"sharry mann new song\"|\"sharry man...</td>\n",
       "      <td>1096327</td>\n",
       "      <td>33966</td>\n",
       "      <td>798</td>\n",
       "      <td>882</td>\n",
       "      <td>https://i.ytimg.com/vi/kzwfHumJyYc/default.jpg</td>\n",
       "      <td>False</td>\n",
       "      <td>False</td>\n",
       "      <td>False</td>\n",
       "      <td>Presenting Sharry Mann latest Punjabi Song  Cu...</td>\n",
       "      <td>IN</td>\n",
       "    </tr>\n",
       "    <tr>\n",
       "      <th>1</th>\n",
       "      <td>zUZ1z7FwLc8</td>\n",
       "      <td>17.14.11</td>\n",
       "      <td>à¤ªà¥à¤°à¤¿à¤¯à¤¡à¥à¤¸ à¤à¥ à¤¸à¤®à¤¯, à¤ª...</td>\n",
       "      <td>HJ NEWS</td>\n",
       "      <td>News &amp; Politics</td>\n",
       "      <td>2017-11-13T05:43:56.000Z</td>\n",
       "      <td>à¤ªà¥à¤°à¤¿à¤¯à¤¡à¥à¤¸ à¤à¥ à¤¸à¤®à¤¯|\"à¤ª...</td>\n",
       "      <td>590101</td>\n",
       "      <td>735</td>\n",
       "      <td>904</td>\n",
       "      <td>0</td>\n",
       "      <td>https://i.ytimg.com/vi/zUZ1z7FwLc8/default.jpg</td>\n",
       "      <td>True</td>\n",
       "      <td>False</td>\n",
       "      <td>False</td>\n",
       "      <td>à¤ªà¥à¤°à¤¿à¤¯à¤¡à¥à¤¸ à¤à¥ à¤¸à¤®à¤¯, à¤ª...</td>\n",
       "      <td>IN</td>\n",
       "    </tr>\n",
       "    <tr>\n",
       "      <th>2</th>\n",
       "      <td>10L1hZ9qa58</td>\n",
       "      <td>17.14.11</td>\n",
       "      <td>Stylish Star Allu Arjun @ ChaySam Wedding Rece...</td>\n",
       "      <td>TFPC</td>\n",
       "      <td>Entertainment</td>\n",
       "      <td>2017-11-12T15:48:08.000Z</td>\n",
       "      <td>Stylish Star Allu Arjun @ ChaySam Wedding Rece...</td>\n",
       "      <td>473988</td>\n",
       "      <td>2011</td>\n",
       "      <td>243</td>\n",
       "      <td>149</td>\n",
       "      <td>https://i.ytimg.com/vi/10L1hZ9qa58/default.jpg</td>\n",
       "      <td>False</td>\n",
       "      <td>False</td>\n",
       "      <td>False</td>\n",
       "      <td>Watch Stylish Star Allu Arjun @ ChaySam Weddin...</td>\n",
       "      <td>IN</td>\n",
       "    </tr>\n",
       "    <tr>\n",
       "      <th>3</th>\n",
       "      <td>N1vE8iiEg64</td>\n",
       "      <td>17.14.11</td>\n",
       "      <td>Eruma Saani | Tamil vs English</td>\n",
       "      <td>Eruma Saani</td>\n",
       "      <td>Comedy</td>\n",
       "      <td>2017-11-12T07:08:48.000Z</td>\n",
       "      <td>Eruma Saani|\"Tamil Comedy Videos\"|\"Films\"|\"Mov...</td>\n",
       "      <td>1242680</td>\n",
       "      <td>70353</td>\n",
       "      <td>1624</td>\n",
       "      <td>2684</td>\n",
       "      <td>https://i.ytimg.com/vi/N1vE8iiEg64/default.jpg</td>\n",
       "      <td>False</td>\n",
       "      <td>False</td>\n",
       "      <td>False</td>\n",
       "      <td>This video showcases the difference between pe...</td>\n",
       "      <td>IN</td>\n",
       "    </tr>\n",
       "    <tr>\n",
       "      <th>4</th>\n",
       "      <td>kJzGH0PVQHQ</td>\n",
       "      <td>17.14.11</td>\n",
       "      <td>why Samantha became EMOTIONAL @ Samantha naga ...</td>\n",
       "      <td>Filmylooks</td>\n",
       "      <td>Entertainment</td>\n",
       "      <td>2017-11-13T01:14:16.000Z</td>\n",
       "      <td>Filmylooks|\"latest news\"|\"telugu movies\"|\"telu...</td>\n",
       "      <td>464015</td>\n",
       "      <td>492</td>\n",
       "      <td>293</td>\n",
       "      <td>66</td>\n",
       "      <td>https://i.ytimg.com/vi/kJzGH0PVQHQ/default.jpg</td>\n",
       "      <td>False</td>\n",
       "      <td>False</td>\n",
       "      <td>False</td>\n",
       "      <td>why Samantha became EMOTIONAL @ Samantha naga ...</td>\n",
       "      <td>IN</td>\n",
       "    </tr>\n",
       "  </tbody>\n",
       "</table>\n",
       "</div>"
      ],
      "text/plain": [
       "      video_id trending_date  \\\n",
       "0  kzwfHumJyYc      17.14.11   \n",
       "1  zUZ1z7FwLc8      17.14.11   \n",
       "2  10L1hZ9qa58      17.14.11   \n",
       "3  N1vE8iiEg64      17.14.11   \n",
       "4  kJzGH0PVQHQ      17.14.11   \n",
       "\n",
       "                                               title    channel_title  \\\n",
       "0  Sharry Mann: Cute Munda ( Song Teaser) | Parmi...  Lokdhun Punjabi   \n",
       "1  à¤ªà¥à¤°à¤¿à¤¯à¤¡à¥à¤¸ à¤à¥ à¤¸à¤®à¤¯, à¤ª...          HJ NEWS   \n",
       "2  Stylish Star Allu Arjun @ ChaySam Wedding Rece...             TFPC   \n",
       "3                     Eruma Saani | Tamil vs English      Eruma Saani   \n",
       "4  why Samantha became EMOTIONAL @ Samantha naga ...       Filmylooks   \n",
       "\n",
       "        category_id              publish_time  \\\n",
       "0  Film & Animation  2017-11-12T12:20:39.000Z   \n",
       "1   News & Politics  2017-11-13T05:43:56.000Z   \n",
       "2     Entertainment  2017-11-12T15:48:08.000Z   \n",
       "3            Comedy  2017-11-12T07:08:48.000Z   \n",
       "4     Entertainment  2017-11-13T01:14:16.000Z   \n",
       "\n",
       "                                                tags    views  likes  \\\n",
       "0  sharry mann|\"sharry mann new song\"|\"sharry man...  1096327  33966   \n",
       "1  à¤ªà¥à¤°à¤¿à¤¯à¤¡à¥à¤¸ à¤à¥ à¤¸à¤®à¤¯|\"à¤ª...   590101    735   \n",
       "2  Stylish Star Allu Arjun @ ChaySam Wedding Rece...   473988   2011   \n",
       "3  Eruma Saani|\"Tamil Comedy Videos\"|\"Films\"|\"Mov...  1242680  70353   \n",
       "4  Filmylooks|\"latest news\"|\"telugu movies\"|\"telu...   464015    492   \n",
       "\n",
       "   dislikes  comment_count                                  thumbnail_link  \\\n",
       "0       798            882  https://i.ytimg.com/vi/kzwfHumJyYc/default.jpg   \n",
       "1       904              0  https://i.ytimg.com/vi/zUZ1z7FwLc8/default.jpg   \n",
       "2       243            149  https://i.ytimg.com/vi/10L1hZ9qa58/default.jpg   \n",
       "3      1624           2684  https://i.ytimg.com/vi/N1vE8iiEg64/default.jpg   \n",
       "4       293             66  https://i.ytimg.com/vi/kJzGH0PVQHQ/default.jpg   \n",
       "\n",
       "   comments_disabled  ratings_disabled  video_error_or_removed  \\\n",
       "0              False             False                   False   \n",
       "1               True             False                   False   \n",
       "2              False             False                   False   \n",
       "3              False             False                   False   \n",
       "4              False             False                   False   \n",
       "\n",
       "                                         description region  \n",
       "0  Presenting Sharry Mann latest Punjabi Song  Cu...     IN  \n",
       "1  à¤ªà¥à¤°à¤¿à¤¯à¤¡à¥à¤¸ à¤à¥ à¤¸à¤®à¤¯, à¤ª...     IN  \n",
       "2  Watch Stylish Star Allu Arjun @ ChaySam Weddin...     IN  \n",
       "3  This video showcases the difference between pe...     IN  \n",
       "4  why Samantha became EMOTIONAL @ Samantha naga ...     IN  "
      ]
     },
     "execution_count": 14,
     "metadata": {},
     "output_type": "execute_result"
    }
   ],
   "source": [
    "import pandas as pd\n",
    "#cargar el archivo combinado\n",
    "combined_df = pd.read_csv(\"C:/Users/Usuario/Desktop/master/practica final/pythonProject/data/procesados/combined_videos_trabajo.csv\")\n",
    "\n",
    "#mostrar las primeras filas del dataframe\n",
    "combined_df.head()"
   ]
  },
  {
   "cell_type": "markdown",
   "id": "281e602c-be6c-43bc-89ac-c704f2f81269",
   "metadata": {},
   "source": [
    "2.RESUMEN ESTADISTICO Y VISUALIZACION DE DATOS FALTANTES"
   ]
  },
  {
   "cell_type": "code",
   "execution_count": 16,
   "id": "35e38b9c-cf54-4478-bf62-46aef27e125a",
   "metadata": {
    "tags": []
   },
   "outputs": [
    {
     "data": {
      "text/plain": [
       "<Axes: >"
      ]
     },
     "execution_count": 16,
     "metadata": {},
     "output_type": "execute_result"
    },
    {
     "data": {
      "image/png": "[encoded data removed]",
      "text/plain": [
       "<Figure size 2500x1000 with 2 Axes>"
      ]
     },
     "metadata": {},
     "output_type": "display_data"
    }
   ],
   "source": [
    "#Resumen estadistico\n",
    "combined_df.describe(include='all')\n",
    "\n",
    "#comprobacion de valores nulos\n",
    "import missingno as msno\n",
    "msno.matrix(combined_df)"
   ]
  },
  {
   "cell_type": "markdown",
   "id": "1cefaf15-9f4e-4683-b669-deed8788fce2",
   "metadata": {},
   "source": [
    "Resumen estadistico:Esto nos da una vision general de las metricas principales como vistas, likes, etc.\n",
    "Visualizacion de datos faltantes: con missingno, podemos verificar visualmente si hay valores nulos. Como podemos observar no hay espacios blancos en las columnas por lo tanto no hay valores nulos."
   ]
  },
  {
   "cell_type": "markdown",
   "id": "dbe8f810-a4b3-49e7-beb1-4a7936af6f08",
   "metadata": {},
   "source": [
    "3.DISTRIBUCION DE LAS METRICAS CLAVE\n",
    "vamos a analizar la distribucion de las metricas clave como 'views', 'likes', y 'comment_count' para tener una idea de su dispersión."
   ]
  },
  {
   "cell_type": "code",
   "execution_count": 19,
   "id": "c9aa974c-1668-4ccf-b421-12fcad2e5511",
   "metadata": {
    "tags": []
   },
   "outputs": [
    {
     "data": {
      "image/png": "[encoded data removed]",
      "text/plain": [
       "<Figure size 1000x600 with 1 Axes>"
      ]
     },
     "metadata": {},
     "output_type": "display_data"
    }
   ],
   "source": [
    "import matplotlib.pyplot as plt\n",
    "import seaborn as sns\n",
    "\n",
    "#configuracion de estilo\n",
    "sns.set(style=\"whitegrid\")\n",
    "\n",
    "#histograma de vistas\n",
    "plt.figure(figsize=(10,6))\n",
    "sns.histplot(combined_df['views'], bins=50, kde=True, kde_kws={'bw_adjust': 0.5})\n",
    "plt.title('Distribucion de views')\n",
    "plt.xlabel('Numero de views')\n",
    "plt.ylabel('Frecuencia')\n",
    "plt.show()"
   ]
  },
  {
   "cell_type": "markdown",
   "id": "dd1bcbc8-f4e8-4c92-903e-18e5b27e68b0",
   "metadata": {},
   "source": [
    "Distribución sesgada a la derecha: La mayoría de los contenidos tienen un número relativamente bajo de \"views\", mientras que unos pocos contenidos tienen un número muy alto de \"views\". Esta distribución se conoce como sesgada a la derecha.\n",
    "\n",
    "Muchos contenidos con pocas visualizaciones: La parte izquierda de la gráfica muestra que hay una gran cantidad de contenidos con menos de 10 millones de \"views\".\n",
    "\n",
    "Pocos contenidos con muchas visualizaciones: A medida que nos movemos hacia la derecha, la frecuencia disminuye, lo que indica que hay menos contenidos con un número muy alto de \"views\"."
   ]
  },
  {
   "cell_type": "code",
   "execution_count": 21,
   "id": "bbb73923-07e3-4d3e-9a4b-6eebb5f0b4af",
   "metadata": {
    "tags": []
   },
   "outputs": [
    {
     "data": {
      "image/png": "[encoded data removed]",
      "text/plain": [
       "<Figure size 1000x600 with 1 Axes>"
      ]
     },
     "metadata": {},
     "output_type": "display_data"
    }
   ],
   "source": [
    "#histograma de likes\n",
    "plt.figure(figsize=(10,6))\n",
    "sns.histplot(combined_df['likes'], bins=100, kde=True)\n",
    "plt.title('Distribucion de likes')\n",
    "plt.show()"
   ]
  },
  {
   "cell_type": "markdown",
   "id": "6a82800d-ac2a-4d5e-8250-10e0b43b18b5",
   "metadata": {},
   "source": [
    "Distribución sesgada a la derecha: La mayoría de las publicaciones tienen un número relativamente bajo de likes, mientras que unas pocas publicaciones tienen un número muy alto de likes. Esto se observa por la forma de la gráfica, con una larga cola hacia la derecha.\n",
    "\n",
    "Pocos contenidos muy populares: La parte derecha de la gráfica muestra que hay muy pocas publicaciones que han superado el millón de likes.\n",
    "\n",
    "Muchos contenidos con pocos likes: La parte izquierda de la gráfica indica que la mayoría de las publicaciones tienen menos de 500.000 likes."
   ]
  },
  {
   "cell_type": "code",
   "execution_count": 23,
   "id": "4073447e-381d-4343-b24c-91da4895ac4c",
   "metadata": {
    "tags": []
   },
   "outputs": [
    {
     "data": {
      "image/png": "[encoded data removed]",
      "text/plain": [
       "<Figure size 1000x600 with 1 Axes>"
      ]
     },
     "metadata": {},
     "output_type": "display_data"
    }
   ],
   "source": [
    "#histograma de comentarios\n",
    "plt.figure(figsize=(10,6))\n",
    "sns.histplot(combined_df['comment_count'], bins=50, kde=True)\n",
    "plt.title('Distribucion de comentarios')\n",
    "plt.show()"
   ]
  },
  {
   "cell_type": "markdown",
   "id": "6b5f84aa-18d4-4743-b164-fa46ba044093",
   "metadata": {},
   "source": [
    "Distribución sesgada a la derecha: La mayoría de las publicaciones tienen un número relativamente bajo de comentarios, mientras que unas pocas publicaciones tienen un número muy alto de comentarios. Esto se observa por la forma de la gráfica, con una larga cola hacia la derecha.\n",
    "\n",
    "Pocos contenidos muy comentados: La parte derecha de la gráfica muestra que hay muy pocas publicaciones que han superado el millón de comentarios.\n",
    "\n",
    "Muchos contenidos con pocos comentarios: La parte izquierda de la gráfica indica que la mayoría de las publicaciones tienen menos de 200.000 comentarios."
   ]
  },
  {
   "cell_type": "markdown",
   "id": "0dedeb1a-5443-433e-b714-826958987c21",
   "metadata": {},
   "source": [
    "4.COMPARACION DE POPULARIDAD ENTRE PAISES"
   ]
  },
  {
   "cell_type": "code",
   "execution_count": 26,
   "id": "345cfeb4-fc08-4f64-a305-11362a1f9753",
   "metadata": {
    "tags": []
   },
   "outputs": [
    {
     "data": {
      "image/png": "[encoded data removed]",
      "text/plain": [
       "<Figure size 1400x700 with 1 Axes>"
      ]
     },
     "metadata": {},
     "output_type": "display_data"
    }
   ],
   "source": [
    "#Añadir columna de pais\n",
    "combined_df['country'] = combined_df['video_id'].str[:2]\n",
    "\n",
    "#boxplot por pais\n",
    "plt.figure(figsize=(14,7))\n",
    "sns.boxplot(x='country', y='views', data=combined_df)\n",
    "plt.title('distribucion de views por pais')\n",
    "plt.show()\n",
    "                                                    "
   ]
  },
  {
   "cell_type": "markdown",
   "id": "5f33da77-51a5-460f-a01e-93c9ba7d5ae6",
   "metadata": {},
   "source": [
    "Este gráfico nos permite comparar la distribución de las views por pais, observando la mediana y la dispersión.\n",
    "-Gran variabilidad: Existe una gran variabilidad en el número de visualizaciones entre los diferentes países. Algunos países tienen un número muy elevado de visualizaciones, mientras que otros tienen muy pocas.\n",
    "\n",
    "-Concentración en algunos países: Se observa que hay algunos países que destacan por tener un número significativamente mayor de visualizaciones en comparación con el resto. Estos países podrían ser considerados como los mercados más importantes o los que generan más interés en el contenido.\n",
    "\n",
    "-Muchos países con pocas visualizaciones: La gran mayoría de los países tienen un número relativamente bajo de visualizaciones. Esto sugiere que el contenido es consumido principalmente en un número limitado de países.\n",
    "\n",
    "-Posibles valores atípicos: Los puntos que se encuentran muy por encima del resto podrían considerarse como valores atípicos. Estos valores atípicos podrían deberse a errores en los datos, a eventos especiales o a características particulares de esos países."
   ]
  },
  {
   "cell_type": "markdown",
   "id": "d27fe262-b713-4eb5-b17f-58eedb500099",
   "metadata": {},
   "source": [
    "5.CORRELACIÓN ENTRE MÉTRICAS"
   ]
  },
  {
   "cell_type": "code",
   "execution_count": 29,
   "id": "e5c11cc3-58e4-4d9b-8376-df00ac92e677",
   "metadata": {
    "tags": []
   },
   "outputs": [
    {
     "data": {
      "image/png": "[encoded data removed]",
      "text/plain": [
       "<Figure size 1000x600 with 2 Axes>"
      ]
     },
     "metadata": {},
     "output_type": "display_data"
    }
   ],
   "source": [
    "#matriz de correlacion\n",
    "plt.figure(figsize=(10,6))\n",
    "corr_matrix = combined_df[['views', 'likes', 'comment_count']].corr()\n",
    "sns.heatmap(corr_matrix, annot=True, cmap='coolwarm')\n",
    "plt.title('Matriz de Correlación entre Métricas')\n",
    "plt.show()"
   ]
  },
  {
   "cell_type": "markdown",
   "id": "700a82a5-5386-474d-a8aa-f96a19a4d065",
   "metadata": {},
   "source": [
    "Alta correlación positiva entre todas las variables: Los valores cercanos a 1 en todas las celdas indican que existe una fuerte relación positiva entre las variables. Esto significa que, a medida que aumenta el número de visualizaciones, también aumenta el número de \"me gusta\" y de comentarios, y viceversa.\n",
    "\n",
    "Mayor correlación entre \"views\" y \"likes\": El coeficiente de correlación entre \"views\" y \"likes\" es el más alto (0.85), lo que sugiere que existe una relación muy estrecha entre estas dos variables. Es decir, a mayor número de visualizaciones, mayor número de \"me gusta\".\n",
    "\n",
    "Relación positiva moderada entre \"views\" y \"comment_count\": El coeficiente de correlación entre \"views\" y \"comment_count\" es también alto (0.67), lo que indica una relación positiva moderada. Esto significa que a mayor número de visualizaciones, mayor número de comentarios, aunque la relación no es tan fuerte como entre \"views\" y \"likes\"."
   ]
  },
  {
   "cell_type": "markdown",
   "id": "14090245-7c00-46dd-a4da-0716e59b05d8",
   "metadata": {},
   "source": [
    "6.ALGORITMOS Y OPTIMIZACION DE HIPERPARAMETROS\n",
    "Ahora, vamos a considerar akgunos modelos de machine learning para predecir la popularidad de los canales y optimizar sus hiperparametros."
   ]
  },
  {
   "cell_type": "markdown",
   "id": "6e6943d1-d2ab-4b33-a7c2-a23e7ab2d412",
   "metadata": {},
   "source": [
    "6.1 Preparacion de los datos\n",
    "Convertimos las caracteristicas categoricas en variables dummy y normalizamos las metricas"
   ]
  },
  {
   "cell_type": "code",
   "execution_count": 33,
   "id": "5970c999-accd-48b5-933a-38fa2df4931f",
   "metadata": {
    "tags": []
   },
   "outputs": [],
   "source": [
    "from sklearn.model_selection import train_test_split\n",
    "from sklearn.preprocessing import StandardScaler\n",
    "#convertir variables categoricas en dummies\n",
    "combined_df_dummies = pd.get_dummies(combined_df, columns=['country'])\n",
    "\n",
    "#separar caracteristicas y target\n",
    "X = combined_df_dummies[['views', 'likes', 'comment_count'] + list(combined_df_dummies.columns[-10:])]\n",
    "y = combined_df_dummies['category_id']\n",
    "\n",
    "#Dividir los datos en conjuntos de entrenamiento y prueba\n",
    "X_train, X_test, y_train, y_test = train_test_split(X, y, test_size=0.2, random_state=42)\n",
    "\n",
    "#estandarizar las caracteristicas\n",
    "scaler = StandardScaler()\n",
    "X_train = scaler.fit_transform(X_train)\n",
    "X_test = scaler.transform(X_test)"
   ]
  },
  {
   "cell_type": "markdown",
   "id": "e4282f0c-ec07-43e9-91d8-f5077f3aeda9",
   "metadata": {},
   "source": [
    "6.2 ENTRENAMIENTO Y EVALUACION DE MODELOS\n",
    "Vamos a probar algunos modelos de clasificacion"
   ]
  },
  {
   "cell_type": "markdown",
   "id": "96488711-5ce6-42be-b89a-3605b1d30f65",
   "metadata": {
    "tags": []
   },
   "source": [
    "Random Forest Classifier"
   ]
  },
  {
   "cell_type": "code",
   "execution_count": 36,
   "id": "662c633b-3ed0-4acf-921e-edf2c99d042c",
   "metadata": {},
   "outputs": [
    {
     "name": "stdout",
     "output_type": "stream",
     "text": [
      "Valores NaN en X antes de manejar:\n",
      "views            0\n",
      "likes            0\n",
      "comment_count    0\n",
      "dtype: int64\n",
      "Valores NaN en y antes de manejar:\n",
      "1050\n",
      "Random Forest Classifier:\n",
      "[[  164     0     0     0     0     0     0     0     0     0     0     0\n",
      "      0     0     0     0]\n",
      " [    0  6775     0     0    13     0     0     0     0     0     0     0\n",
      "      0     0     0     0]\n",
      " [    0     0  2464     0     0     0     0     0     0     0     0     0\n",
      "      0     0     0     0]\n",
      " [    0     0     0 33496     0     0     0     0     0     0     0     0\n",
      "      0     0     0     0]\n",
      " [    0    10     0     0  3267     0     0     0     0     0     0     0\n",
      "      0     0     0     0]\n",
      " [    0     0     0     0     0   133     0     0     0     0     0     0\n",
      "      0     0     0     0]\n",
      " [    0     0     0     0     0     0  1702     0     0     0     0     0\n",
      "      0     0     0     0]\n",
      " [    0     0     0     0     0     0     0    31     0     0     0     0\n",
      "      0     0     0     0]\n",
      " [    0     0     0     0     0     0     0     0  7623     0     0     0\n",
      "      0     0     0     0]\n",
      " [    0     0     0     0     0     0     0     0     0 10659     0     0\n",
      "      0     0     0     0]\n",
      " [    0     0     0     0     0     0     0     0     0     0  5183     0\n",
      "      0     0     0     0]\n",
      " [    0     0     0     0     0     0     0     0     0     0     0     2\n",
      "      0     0     0     0]\n",
      " [    0     0     0     0     3     0     0     0     0     0     0     0\n",
      "   1104     0     0     0]\n",
      " [    0     0     0     0     0     0     0     0     0     0     0     0\n",
      "      0   396     0     0]\n",
      " [    0     0     0     0     0     0     0     0     0     0     0     0\n",
      "      0     0  1452     0]\n",
      " [    0     0     0     0     0     0     0     0     0     0     0     0\n",
      "      0     0     0    17]]\n",
      "                      precision    recall  f1-score   support\n",
      "\n",
      "    Autos & Vehicles       1.00      1.00      1.00       164\n",
      "              Comedy       1.00      1.00      1.00      6788\n",
      "           Education       1.00      1.00      1.00      2464\n",
      "       Entertainment       1.00      1.00      1.00     33496\n",
      "    Film & Animation       1.00      1.00      1.00      3277\n",
      "              Gaming       1.00      1.00      1.00       133\n",
      "       Howto & Style       1.00      1.00      1.00      1702\n",
      "              Movies       1.00      1.00      1.00        31\n",
      "               Music       1.00      1.00      1.00      7623\n",
      "     News & Politics       1.00      1.00      1.00     10659\n",
      "      People & Blogs       1.00      1.00      1.00      5183\n",
      "      Pets & Animals       1.00      1.00      1.00         2\n",
      "Science & Technology       1.00      1.00      1.00      1107\n",
      "               Shows       1.00      1.00      1.00       396\n",
      "              Sports       1.00      1.00      1.00      1452\n",
      "     Travel & Events       1.00      1.00      1.00        17\n",
      "\n",
      "            accuracy                           1.00     74494\n",
      "           macro avg       1.00      1.00      1.00     74494\n",
      "        weighted avg       1.00      1.00      1.00     74494\n",
      "\n"
     ]
    }
   ],
   "source": [
    "import pandas as pd\n",
    "from sklearn.model_selection import train_test_split\n",
    "from sklearn.preprocessing import StandardScaler\n",
    "from sklearn.impute import SimpleImputer\n",
    "\n",
    "# Cargar los datos\n",
    "path_unified = \"C:/Users/Usuario/Desktop/master/practica final/pythonProject/data/procesados/combined_videos_trabajo.csv\"\n",
    "df = pd.read_csv(path_unified)\n",
    "\n",
    "# Definir X e y\n",
    "X = df[['views', 'likes', 'comment_count']]\n",
    "y = df['category_id']  # Asumiendo que 'category_id' es la variable objetivo\n",
    "\n",
    "# Verificar si hay valores NaN en X e y\n",
    "print(\"Valores NaN en X antes de manejar:\")\n",
    "print(X.isnull().sum())\n",
    "print(\"Valores NaN en y antes de manejar:\")\n",
    "print(y.isnull().sum())\n",
    "\n",
    "# Eliminar filas con NaN en y y en X correspondiente\n",
    "mask = y.notnull()  # Crear una máscara de filas donde y no es NaN\n",
    "X = X[mask]\n",
    "y = y[mask]\n",
    "\n",
    "# Ahora dividir en conjunto de entrenamiento y prueba\n",
    "X_train, X_test, y_train, y_test = train_test_split(X, y, test_size=0.2, random_state=42)\n",
    "\n",
    "# Normalizar las características\n",
    "scaler = StandardScaler()\n",
    "X_train_scaled = scaler.fit_transform(X_train)\n",
    "X_test_scaled = scaler.transform(X_test)\n",
    "\n",
    "# Entrenar el modelo random forest\n",
    "from sklearn.ensemble import RandomForestClassifier\n",
    "from sklearn.metrics import classification_report, confusion_matrix\n",
    "\n",
    "rf_model = RandomForestClassifier(random_state=42)\n",
    "rf_model.fit(X_train_scaled, y_train)\n",
    "\n",
    "# Predicciones\n",
    "y_pred = rf_model.predict(X_test_scaled)\n",
    "\n",
    "# Evaluación del modelo\n",
    "print(\"Random Forest Classifier:\")\n",
    "print(confusion_matrix(y_test, y_pred))\n",
    "print(classification_report(y_test, y_pred))\n"
   ]
  },
  {
   "cell_type": "markdown",
   "id": "5d03894c-51b0-4f93-9ff8-6951bc47c4e0",
   "metadata": {},
   "source": [
    "Accuracy (Exactitud): La proporción de todas las instancias correctamente clasificadas entre todas las instancias. Es 1.00, lo que significa que el modelo clasificó correctamente el 100% de las instancias en el conjunto de prueba.\n",
    "\n",
    "Macro Avg: El promedio de las métricas de precisión, recall y F1-score calculado sobre todas las categorías, sin ponderar por la cantidad de instancias en cada categoría. Es 1.00, lo que sugiere un rendimiento uniformemente excelente en todas las categorías.\n",
    "\n",
    "Weighted Avg: El promedio ponderado de las métricas de precisión, recall y F1-score, ponderado por el número de instancias en cada clase. Esto también resulta en 1.00, lo que indica que el modelo maneja tanto clases comunes como raras de manera efectiva. \n",
    "\n",
    "(((En esta parte tuve que ayudarme de chatgpt porque estaba teniendo muchos problemas, no entendia porque no funcionaba ninguno modelo asi que le pedi que me lo corriegiera y explicara. Era porque habia muchos valores NaN, aplicando eso ya me funciono.))) "
   ]
  },
  {
   "cell_type": "markdown",
   "id": "d8980613-8f8c-4448-a1d4-18d2d059e647",
   "metadata": {},
   "source": [
    "Logistic Regression"
   ]
  },
  {
   "cell_type": "code",
   "execution_count": 39,
   "id": "967c0eb9-afd0-4197-97dd-4e0aa467d121",
   "metadata": {
    "tags": []
   },
   "outputs": [
    {
     "name": "stdout",
     "output_type": "stream",
     "text": [
      "Logistic Regression\n",
      "Accuracy: 0.1211506967004054\n",
      "[[   4    8   43    0    0    0   10    1    0   10    7    0   13   12\n",
      "     0   56]\n",
      " [ 101 2586 1698  160   27   21  148  126  112  195  395  471   32  198\n",
      "    75  443]\n",
      " [  19   68 2003   13    0    0    7    0    0   20   10   21   56   58\n",
      "     0  189]\n",
      " [ 765 2091 5259  340  222  687 1907  932  448 4972  946  481  229 4154\n",
      "   195 9868]\n",
      " [  94  237  375   91   66  209  321  438  131  184  246   16  125  361\n",
      "    45  338]\n",
      " [   0   16    5    5    0   43    0   20    2    0    9   17    7    9\n",
      "     0    0]\n",
      " [  66   14  365   31   85    0  243  249    0  106   25    0   15   84\n",
      "     0  419]\n",
      " [   0    3    0    0    0    0    0   22    0    1    0    0    0    0\n",
      "     4    1]\n",
      " [ 115 1116  790  168  109  540  573 1481  707  229  534   64   61  359\n",
      "   152  625]\n",
      " [ 252   38 1608   17   27    0  405   56    0 2246  172   10   61 1362\n",
      "     2 4403]\n",
      " [  32  358 1242   38    7   54  317   96   17  830  109   34  116  655\n",
      "    61 1217]\n",
      " [   0    0    0    0    0    0    0    0    0    0    0    2    0    0\n",
      "     0    0]\n",
      " [ 121   27  382   45    0   33    0   16    0   31    6   22  352   17\n",
      "    20   35]\n",
      " [   0    0    8    0    0    0   20   11    0   63    0    0    0  275\n",
      "     0   19]\n",
      " [  29   33   75   65   71  115  173   95   38  120   87    5   37  167\n",
      "    17  325]\n",
      " [   2    0    5    0    0    0    0    0    0    0    0    0    0    0\n",
      "     0   10]]\n",
      "                      precision    recall  f1-score   support\n",
      "\n",
      "    Autos & Vehicles       0.00      0.02      0.00       164\n",
      "              Comedy       0.39      0.38      0.39      6788\n",
      "           Education       0.14      0.81      0.25      2464\n",
      "       Entertainment       0.35      0.01      0.02     33496\n",
      "    Film & Animation       0.11      0.02      0.03      3277\n",
      "              Gaming       0.03      0.32      0.05       133\n",
      "       Howto & Style       0.06      0.14      0.08      1702\n",
      "              Movies       0.01      0.71      0.01        31\n",
      "               Music       0.49      0.09      0.16      7623\n",
      "     News & Politics       0.25      0.21      0.23     10659\n",
      "      People & Blogs       0.04      0.02      0.03      5183\n",
      "      Pets & Animals       0.00      1.00      0.00         2\n",
      "Science & Technology       0.32      0.32      0.32      1107\n",
      "               Shows       0.04      0.69      0.07       396\n",
      "              Sports       0.03      0.01      0.02      1452\n",
      "     Travel & Events       0.00      0.59      0.00        17\n",
      "\n",
      "            accuracy                           0.12     74494\n",
      "           macro avg       0.14      0.34      0.10     74494\n",
      "        weighted avg       0.30      0.12      0.11     74494\n",
      "\n"
     ]
    }
   ],
   "source": [
    "from sklearn.linear_model import LogisticRegression\n",
    "from sklearn.metrics import classification_report, confusion_matrix, accuracy_score\n",
    "from sklearn.preprocessing import StandardScaler\n",
    "\n",
    "# Escalar los datos\n",
    "scaler = StandardScaler()\n",
    "X_train_scaled = scaler.fit_transform(X_train)\n",
    "X_test_scaled = scaler.transform(X_test)\n",
    "\n",
    "# Inicializar el modelo con class_weight='balanced'\n",
    "log_reg = LogisticRegression(random_state=42, max_iter=1000, class_weight='balanced')\n",
    "\n",
    "# Entrenar el modelo\n",
    "log_reg.fit(X_train_scaled, y_train)\n",
    "\n",
    "# Predicciones\n",
    "y_pred_log_reg = log_reg.predict(X_test_scaled)\n",
    "\n",
    "# Evaluación del modelo\n",
    "print(\"Logistic Regression\")\n",
    "print(\"Accuracy:\", accuracy_score(y_test, y_pred_log_reg))\n",
    "print(confusion_matrix(y_test, y_pred_log_reg))\n",
    "print(classification_report(y_test, y_pred_log_reg))\n"
   ]
  },
  {
   "cell_type": "markdown",
   "id": "a5f5dee3-894c-41e2-936e-f6afd0231b2c",
   "metadata": {},
   "source": [
    "Da un promedio simple de las metricas de todas las clases, sin importar el tamaño de la clase, esta entre 0.14 y 0.34 por lo que el modelo no funciona bien"
   ]
  },
  {
   "cell_type": "markdown",
   "id": "d43b919b-9908-4ed9-ae2d-29300c68d7df",
   "metadata": {},
   "source": [
    "K-NEAREST NEIGHBORS (KNN)"
   ]
  },
  {
   "cell_type": "code",
   "execution_count": 42,
   "id": "86635d91-8f04-458f-ae0e-a7e197781b38",
   "metadata": {
    "tags": []
   },
   "outputs": [
    {
     "data": {
      "text/html": [
       "<style>#sk-container-id-1 {color: black;}#sk-container-id-1 pre{padding: 0;}#sk-container-id-1 div.sk-toggleable {background-color: white;}#sk-container-id-1 label.sk-toggleable__label {cursor: pointer;display: block;width: 100%;margin-bottom: 0;padding: 0.3em;box-sizing: border-box;text-align: center;}#sk-container-id-1 label.sk-toggleable__label-arrow:before {content: \"▸\";float: left;margin-right: 0.25em;color: #696969;}#sk-container-id-1 label.sk-toggleable__label-arrow:hover:before {color: black;}#sk-container-id-1 div.sk-estimator:hover label.sk-toggleable__label-arrow:before {color: black;}#sk-container-id-1 div.sk-toggleable__content {max-height: 0;max-width: 0;overflow: hidden;text-align: left;background-color: #f0f8ff;}#sk-container-id-1 div.sk-toggleable__content pre {margin: 0.2em;color: black;border-radius: 0.25em;background-color: #f0f8ff;}#sk-container-id-1 input.sk-toggleable__control:checked~div.sk-toggleable__content {max-height: 200px;max-width: 100%;overflow: auto;}#sk-container-id-1 input.sk-toggleable__control:checked~label.sk-toggleable__label-arrow:before {content: \"▾\";}#sk-container-id-1 div.sk-estimator input.sk-toggleable__control:checked~label.sk-toggleable__label {background-color: #d4ebff;}#sk-container-id-1 div.sk-label input.sk-toggleable__control:checked~label.sk-toggleable__label {background-color: #d4ebff;}#sk-container-id-1 input.sk-hidden--visually {border: 0;clip: rect(1px 1px 1px 1px);clip: rect(1px, 1px, 1px, 1px);height: 1px;margin: -1px;overflow: hidden;padding: 0;position: absolute;width: 1px;}#sk-container-id-1 div.sk-estimator {font-family: monospace;background-color: #f0f8ff;border: 1px dotted black;border-radius: 0.25em;box-sizing: border-box;margin-bottom: 0.5em;}#sk-container-id-1 div.sk-estimator:hover {background-color: #d4ebff;}#sk-container-id-1 div.sk-parallel-item::after {content: \"\";width: 100%;border-bottom: 1px solid gray;flex-grow: 1;}#sk-container-id-1 div.sk-label:hover label.sk-toggleable__label {background-color: #d4ebff;}#sk-container-id-1 div.sk-serial::before {content: \"\";position: absolute;border-left: 1px solid gray;box-sizing: border-box;top: 0;bottom: 0;left: 50%;z-index: 0;}#sk-container-id-1 div.sk-serial {display: flex;flex-direction: column;align-items: center;background-color: white;padding-right: 0.2em;padding-left: 0.2em;position: relative;}#sk-container-id-1 div.sk-item {position: relative;z-index: 1;}#sk-container-id-1 div.sk-parallel {display: flex;align-items: stretch;justify-content: center;background-color: white;position: relative;}#sk-container-id-1 div.sk-item::before, #sk-container-id-1 div.sk-parallel-item::before {content: \"\";position: absolute;border-left: 1px solid gray;box-sizing: border-box;top: 0;bottom: 0;left: 50%;z-index: -1;}#sk-container-id-1 div.sk-parallel-item {display: flex;flex-direction: column;z-index: 1;position: relative;background-color: white;}#sk-container-id-1 div.sk-parallel-item:first-child::after {align-self: flex-end;width: 50%;}#sk-container-id-1 div.sk-parallel-item:last-child::after {align-self: flex-start;width: 50%;}#sk-container-id-1 div.sk-parallel-item:only-child::after {width: 0;}#sk-container-id-1 div.sk-dashed-wrapped {border: 1px dashed gray;margin: 0 0.4em 0.5em 0.4em;box-sizing: border-box;padding-bottom: 0.4em;background-color: white;}#sk-container-id-1 div.sk-label label {font-family: monospace;font-weight: bold;display: inline-block;line-height: 1.2em;}#sk-container-id-1 div.sk-label-container {text-align: center;}#sk-container-id-1 div.sk-container {/* jupyter's `normalize.less` sets `[hidden] { display: none; }` but bootstrap.min.css set `[hidden] { display: none !important; }` so we also need the `!important` here to be able to override the default hidden behavior on the sphinx rendered scikit-learn.org. See: https://github.com/scikit-learn/scikit-learn/issues/21755 */display: inline-block !important;position: relative;}#sk-container-id-1 div.sk-text-repr-fallback {display: none;}</style><div id=\"sk-container-id-1\" class=\"sk-top-container\"><div class=\"sk-text-repr-fallback\"><pre>KNeighborsClassifier()</pre><b>In a Jupyter environment, please rerun this cell to show the HTML representation or trust the notebook. <br />On GitHub, the HTML representation is unable to render, please try loading this page with nbviewer.org.</b></div><div class=\"sk-container\" hidden><div class=\"sk-item\"><div class=\"sk-estimator sk-toggleable\"><input class=\"sk-toggleable__control sk-hidden--visually\" id=\"sk-estimator-id-1\" type=\"checkbox\" checked><label for=\"sk-estimator-id-1\" class=\"sk-toggleable__label sk-toggleable__label-arrow\">KNeighborsClassifier</label><div class=\"sk-toggleable__content\"><pre>KNeighborsClassifier()</pre></div></div></div></div></div>"
      ],
      "text/plain": [
       "KNeighborsClassifier()"
      ]
     },
     "execution_count": 42,
     "metadata": {},
     "output_type": "execute_result"
    }
   ],
   "source": [
    "from sklearn.neighbors import KNeighborsClassifier\n",
    "from sklearn.metrics import classification_report, accuracy_score, confusion_matrix\n",
    "\n",
    "# Inicializar el modelo\n",
    "knn_model = KNeighborsClassifier()\n",
    "\n",
    "#Entrenar el modelo\n",
    "knn_model.fit(X_train, y_train)"
   ]
  },
  {
   "cell_type": "code",
   "execution_count": 43,
   "id": "c9122fa3-3bcd-4002-8f2f-2b2180c21188",
   "metadata": {
    "tags": []
   },
   "outputs": [],
   "source": [
    "#predicciones\n",
    "y_pred_knn = knn_model.predict(X_test)"
   ]
  },
  {
   "cell_type": "code",
   "execution_count": 44,
   "id": "43b83f08-0441-4b47-b87a-68e8c7575162",
   "metadata": {
    "tags": []
   },
   "outputs": [
    {
     "name": "stdout",
     "output_type": "stream",
     "text": [
      "K-NEAREST NEIGHBORS (KNN):\n",
      "Accuracy: 0.9994630440035439\n",
      "[[  164     0     0     0     0     0     0     0     0     0     0     0\n",
      "      0     0     0     0]\n",
      " [    0  6773     0     0    15     0     0     0     0     0     0     0\n",
      "      0     0     0     0]\n",
      " [    0     0  2464     0     0     0     0     0     0     0     0     0\n",
      "      0     0     0     0]\n",
      " [    0     0     0 33488     0     0     0     0     0     0     0     0\n",
      "      0     0     8     0]\n",
      " [    0     6     0     0  3271     0     0     0     0     0     0     0\n",
      "      0     0     0     0]\n",
      " [    0     0     0     0     0   133     0     0     0     0     0     0\n",
      "      0     0     0     0]\n",
      " [    0     0     0     0     0     0  1702     0     0     0     0     0\n",
      "      0     0     0     0]\n",
      " [    0     0     0     0     0     0     0    31     0     0     0     0\n",
      "      0     0     0     0]\n",
      " [    0     0     0     0     0     0     0     0  7623     0     0     0\n",
      "      0     0     0     0]\n",
      " [    0     0     0     8     0     0     0     0     0 10651     0     0\n",
      "      0     0     0     0]\n",
      " [    0     0     0     0     0     0     0     0     0     0  5183     0\n",
      "      0     0     0     0]\n",
      " [    0     0     0     0     0     0     0     0     0     0     0     2\n",
      "      0     0     0     0]\n",
      " [    0     0     0     0     3     0     0     0     0     0     0     0\n",
      "   1104     0     0     0]\n",
      " [    0     0     0     0     0     0     0     0     0     0     0     0\n",
      "      0   396     0     0]\n",
      " [    0     0     0     0     0     0     0     0     0     0     0     0\n",
      "      0     0  1452     0]\n",
      " [    0     0     0     0     0     0     0     0     0     0     0     0\n",
      "      0     0     0    17]]\n",
      "                      precision    recall  f1-score   support\n",
      "\n",
      "    Autos & Vehicles       1.00      1.00      1.00       164\n",
      "              Comedy       1.00      1.00      1.00      6788\n",
      "           Education       1.00      1.00      1.00      2464\n",
      "       Entertainment       1.00      1.00      1.00     33496\n",
      "    Film & Animation       0.99      1.00      1.00      3277\n",
      "              Gaming       1.00      1.00      1.00       133\n",
      "       Howto & Style       1.00      1.00      1.00      1702\n",
      "              Movies       1.00      1.00      1.00        31\n",
      "               Music       1.00      1.00      1.00      7623\n",
      "     News & Politics       1.00      1.00      1.00     10659\n",
      "      People & Blogs       1.00      1.00      1.00      5183\n",
      "      Pets & Animals       1.00      1.00      1.00         2\n",
      "Science & Technology       1.00      1.00      1.00      1107\n",
      "               Shows       1.00      1.00      1.00       396\n",
      "              Sports       0.99      1.00      1.00      1452\n",
      "     Travel & Events       1.00      1.00      1.00        17\n",
      "\n",
      "            accuracy                           1.00     74494\n",
      "           macro avg       1.00      1.00      1.00     74494\n",
      "        weighted avg       1.00      1.00      1.00     74494\n",
      "\n"
     ]
    }
   ],
   "source": [
    "#evaluacion del modelo\n",
    "print(\"K-NEAREST NEIGHBORS (KNN):\")\n",
    "print(\"Accuracy:\", accuracy_score(y_test, y_pred_knn))\n",
    "print(confusion_matrix(y_test, y_pred_knn))\n",
    "print(classification_report(y_test, y_pred_knn))"
   ]
  },
  {
   "cell_type": "markdown",
   "id": "179314c1-14f0-4db4-902d-4614c5e50e5c",
   "metadata": {},
   "source": [
    "Como podemos observar tiene un rendimiento excelente con una precisión de 0.99 o 1"
   ]
  },
  {
   "cell_type": "markdown",
   "id": "58d6b81f-5424-4dd4-adf2-ba32dcff1c06",
   "metadata": {},
   "source": [
    "NAIVE BAYES"
   ]
  },
  {
   "cell_type": "code",
   "execution_count": 47,
   "id": "4c1a3610-fa8c-4243-9e6d-0bc1e2ba5329",
   "metadata": {
    "tags": []
   },
   "outputs": [
    {
     "data": {
      "text/html": [
       "<style>#sk-container-id-2 {color: black;}#sk-container-id-2 pre{padding: 0;}#sk-container-id-2 div.sk-toggleable {background-color: white;}#sk-container-id-2 label.sk-toggleable__label {cursor: pointer;display: block;width: 100%;margin-bottom: 0;padding: 0.3em;box-sizing: border-box;text-align: center;}#sk-container-id-2 label.sk-toggleable__label-arrow:before {content: \"▸\";float: left;margin-right: 0.25em;color: #696969;}#sk-container-id-2 label.sk-toggleable__label-arrow:hover:before {color: black;}#sk-container-id-2 div.sk-estimator:hover label.sk-toggleable__label-arrow:before {color: black;}#sk-container-id-2 div.sk-toggleable__content {max-height: 0;max-width: 0;overflow: hidden;text-align: left;background-color: #f0f8ff;}#sk-container-id-2 div.sk-toggleable__content pre {margin: 0.2em;color: black;border-radius: 0.25em;background-color: #f0f8ff;}#sk-container-id-2 input.sk-toggleable__control:checked~div.sk-toggleable__content {max-height: 200px;max-width: 100%;overflow: auto;}#sk-container-id-2 input.sk-toggleable__control:checked~label.sk-toggleable__label-arrow:before {content: \"▾\";}#sk-container-id-2 div.sk-estimator input.sk-toggleable__control:checked~label.sk-toggleable__label {background-color: #d4ebff;}#sk-container-id-2 div.sk-label input.sk-toggleable__control:checked~label.sk-toggleable__label {background-color: #d4ebff;}#sk-container-id-2 input.sk-hidden--visually {border: 0;clip: rect(1px 1px 1px 1px);clip: rect(1px, 1px, 1px, 1px);height: 1px;margin: -1px;overflow: hidden;padding: 0;position: absolute;width: 1px;}#sk-container-id-2 div.sk-estimator {font-family: monospace;background-color: #f0f8ff;border: 1px dotted black;border-radius: 0.25em;box-sizing: border-box;margin-bottom: 0.5em;}#sk-container-id-2 div.sk-estimator:hover {background-color: #d4ebff;}#sk-container-id-2 div.sk-parallel-item::after {content: \"\";width: 100%;border-bottom: 1px solid gray;flex-grow: 1;}#sk-container-id-2 div.sk-label:hover label.sk-toggleable__label {background-color: #d4ebff;}#sk-container-id-2 div.sk-serial::before {content: \"\";position: absolute;border-left: 1px solid gray;box-sizing: border-box;top: 0;bottom: 0;left: 50%;z-index: 0;}#sk-container-id-2 div.sk-serial {display: flex;flex-direction: column;align-items: center;background-color: white;padding-right: 0.2em;padding-left: 0.2em;position: relative;}#sk-container-id-2 div.sk-item {position: relative;z-index: 1;}#sk-container-id-2 div.sk-parallel {display: flex;align-items: stretch;justify-content: center;background-color: white;position: relative;}#sk-container-id-2 div.sk-item::before, #sk-container-id-2 div.sk-parallel-item::before {content: \"\";position: absolute;border-left: 1px solid gray;box-sizing: border-box;top: 0;bottom: 0;left: 50%;z-index: -1;}#sk-container-id-2 div.sk-parallel-item {display: flex;flex-direction: column;z-index: 1;position: relative;background-color: white;}#sk-container-id-2 div.sk-parallel-item:first-child::after {align-self: flex-end;width: 50%;}#sk-container-id-2 div.sk-parallel-item:last-child::after {align-self: flex-start;width: 50%;}#sk-container-id-2 div.sk-parallel-item:only-child::after {width: 0;}#sk-container-id-2 div.sk-dashed-wrapped {border: 1px dashed gray;margin: 0 0.4em 0.5em 0.4em;box-sizing: border-box;padding-bottom: 0.4em;background-color: white;}#sk-container-id-2 div.sk-label label {font-family: monospace;font-weight: bold;display: inline-block;line-height: 1.2em;}#sk-container-id-2 div.sk-label-container {text-align: center;}#sk-container-id-2 div.sk-container {/* jupyter's `normalize.less` sets `[hidden] { display: none; }` but bootstrap.min.css set `[hidden] { display: none !important; }` so we also need the `!important` here to be able to override the default hidden behavior on the sphinx rendered scikit-learn.org. See: https://github.com/scikit-learn/scikit-learn/issues/21755 */display: inline-block !important;position: relative;}#sk-container-id-2 div.sk-text-repr-fallback {display: none;}</style><div id=\"sk-container-id-2\" class=\"sk-top-container\"><div class=\"sk-text-repr-fallback\"><pre>GaussianNB()</pre><b>In a Jupyter environment, please rerun this cell to show the HTML representation or trust the notebook. <br />On GitHub, the HTML representation is unable to render, please try loading this page with nbviewer.org.</b></div><div class=\"sk-container\" hidden><div class=\"sk-item\"><div class=\"sk-estimator sk-toggleable\"><input class=\"sk-toggleable__control sk-hidden--visually\" id=\"sk-estimator-id-2\" type=\"checkbox\" checked><label for=\"sk-estimator-id-2\" class=\"sk-toggleable__label sk-toggleable__label-arrow\">GaussianNB</label><div class=\"sk-toggleable__content\"><pre>GaussianNB()</pre></div></div></div></div></div>"
      ],
      "text/plain": [
       "GaussianNB()"
      ]
     },
     "execution_count": 47,
     "metadata": {},
     "output_type": "execute_result"
    }
   ],
   "source": [
    "from sklearn.naive_bayes import GaussianNB\n",
    "from sklearn.metrics import classification_report, accuracy_score, confusion_matrix\n",
    "from sklearn.preprocessing import StandardScaler\n",
    "import pandas as pd\n",
    "\n",
    "#Escalado de caracteristicas\n",
    "X_train_scaled = pd.DataFrame(scaler.fit_transform(X_train), columns=X_train.columns)\n",
    "X_test_scaled = pd.DataFrame(scaler.transform(X_test), columns=X_test.columns)\n",
    "scaler = StandardScaler()\n",
    "X_train_scaled = scaler.fit_transform(X_train)\n",
    "X_test_scaled = scaler.transform(X_test)\n",
    "\n",
    "#inicializar el modelo\n",
    "nb_model = GaussianNB()\n",
    "\n",
    "#Entrenar el modelo\n",
    "nb_model.fit(X_train_scaled, y_train)"
   ]
  },
  {
   "cell_type": "code",
   "execution_count": 48,
   "id": "d4d2e9b0-d0da-490a-82d6-ac58964b0227",
   "metadata": {},
   "outputs": [],
   "source": [
    "#predicciones\n",
    "y_pred_nb = nb_model.predict(X_test_scaled)"
   ]
  },
  {
   "cell_type": "code",
   "execution_count": 49,
   "id": "2ebd5458-49f3-43fd-a122-e39d130ac389",
   "metadata": {},
   "outputs": [
    {
     "name": "stdout",
     "output_type": "stream",
     "text": [
      "Naive Bayes:\n",
      "Accuracy: 0.17554433914140735\n",
      "[[    0     6     0     8     0     0     0     0     0   143     5     0\n",
      "      0     2     0     0]\n",
      " [    0  1033    17   502     0     0    38     0   200  3833   955     0\n",
      "      0   210     0     0]\n",
      " [    0    43    10    11     0     0     0     0     0  2266    92     0\n",
      "      0    42     0     0]\n",
      " [    0   966    32  1462     0     0   621     0   636 25292   893     0\n",
      "      6  3588     0     0]\n",
      " [    0   181     0   392     0     0   170     0   248  1863   190     0\n",
      "      0   233     0     0]\n",
      " [    0    12     0    41     0     0     2     0    35    31    10     0\n",
      "      0     2     0     0]\n",
      " [    0     8     0   132     0     0   191     0     7  1255    23     0\n",
      "      0    86     0     0]\n",
      " [    0     0     0    22     0     0     0     0     0     9     0     0\n",
      "      0     0     0     0]\n",
      " [    0   597     6  1312     0     0   239     0   712  3931   419     0\n",
      "      0   407     0     0]\n",
      " [    0    47     0    79     0     0   192     0    12  9153    86     0\n",
      "      0  1090     0     0]\n",
      " [    0   122     2   142     0     0   213     0     0  3997   202     0\n",
      "      5   500     0     0]\n",
      " [    0     0     0     2     0     0     0     0     0     0     0     0\n",
      "      0     0     0     0]\n",
      " [    0   159    57   120     0     0     0     0    12   466   212     0\n",
      "     63    18     0     0]\n",
      " [    0     0     0     0     0     0     7     0     0   138     0     0\n",
      "      0   251     0     0]\n",
      " [    0    27     0   154     0     0    98     0   117   910    32     0\n",
      "      0   114     0     0]\n",
      " [    0     0     0     0     0     0     0     0     0    17     0     0\n",
      "      0     0     0     0]]\n",
      "                      precision    recall  f1-score   support\n",
      "\n",
      "    Autos & Vehicles       1.00      0.00      0.00       164\n",
      "              Comedy       0.32      0.15      0.21      6788\n",
      "           Education       0.08      0.00      0.01      2464\n",
      "       Entertainment       0.33      0.04      0.08     33496\n",
      "    Film & Animation       1.00      0.00      0.00      3277\n",
      "              Gaming       1.00      0.00      0.00       133\n",
      "       Howto & Style       0.11      0.11      0.11      1702\n",
      "              Movies       1.00      0.00      0.00        31\n",
      "               Music       0.36      0.09      0.15      7623\n",
      "     News & Politics       0.17      0.86      0.29     10659\n",
      "      People & Blogs       0.06      0.04      0.05      5183\n",
      "      Pets & Animals       1.00      0.00      0.00         2\n",
      "Science & Technology       0.85      0.06      0.11      1107\n",
      "               Shows       0.04      0.63      0.07       396\n",
      "              Sports       1.00      0.00      0.00      1452\n",
      "     Travel & Events       1.00      0.00      0.00        17\n",
      "\n",
      "            accuracy                           0.18     74494\n",
      "           macro avg       0.58      0.12      0.07     74494\n",
      "        weighted avg       0.33      0.18      0.12     74494\n",
      "\n"
     ]
    }
   ],
   "source": [
    "#evaluacion del modelo\n",
    "print(\"Naive Bayes:\")\n",
    "print(\"Accuracy:\", accuracy_score(y_test, y_pred_nb))\n",
    "print(confusion_matrix(y_test, y_pred_nb))\n",
    "print(classification_report(y_test, y_pred_nb, zero_division=1))"
   ]
  },
  {
   "cell_type": "markdown",
   "id": "e4cb336a-4d4a-4193-8641-19fb398fd0fe",
   "metadata": {},
   "source": [
    "como podemos observar tiene una precision del 17% que es relativamente baja, los problemas que tiene es que hay muchas mas estancias que otras como pets and animals entonces predice las clases mas grandes e ignora las menos representadas entonces este modelo no es muy adecuado"
   ]
  },
  {
   "cell_type": "markdown",
   "id": "2c5aaf97-2a72-4f90-aa60-a85b149555f3",
   "metadata": {},
   "source": [
    "SVC"
   ]
  },
  {
   "cell_type": "code",
   "execution_count": 52,
   "id": "4f7f0084-20ae-4f03-b7b4-6e5d0aa24fc4",
   "metadata": {
    "tags": []
   },
   "outputs": [
    {
     "data": {
      "text/plain": [
       "'\\nimport pandas as pd\\nfrom sklearn.model_selection import train_test_split\\nfrom sklearn.svm import SVC\\nfrom sklearn.metrics import classification_report, accuracy_score, confusion_matrix\\nfrom sklearn.preprocessing import LabelEncoder, StandardScaler\\n\\n# Cargar tus datos en un DataFrame\\ndf = pd.read_csv(\\'C:/Users/Usuario/Desktop/master/practica final/youtube-new/combined_videos_trabajo.csv\\')\\n\\n# Verificar las primeras filas del DataFrame\\nprint(\"Primeros registros del DataFrame:\")\\nprint(df.head())\\n\\n# Seleccionar columnas útiles y eliminar las menos útiles\\ncolumns_to_keep = [\\'category_id\\', \\'views\\', \\'likes\\', \\'dislikes\\', \\'comment_count\\', \\'comments_disabled\\', \\'ratings_disabled\\', \\'video_error_or_removed\\', \\'region\\']\\ndf_cleaned = df[columns_to_keep].copy()\\n\\n# Codificar variables categóricas\\nlabel_encoders = {}\\nfor column in [\\'category_id\\', \\'region\\']:\\n    le = LabelEncoder()\\n    df_cleaned[column] = le.fit_transform(df_cleaned[column])\\n    label_encoders[column] = le\\n\\nprint(\"\\nDatos después de la codificación:\")\\nprint(df_cleaned.head())\\n\\n# Seleccionar una muestra más pequeña para pruebas rápidas\\ndf_sample = df_cleaned.sample(frac=0.1, random_state=42)  # Tomar el 10% de los datos para pruebas rápidas\\nX_sample = df_sample.drop(\\'views\\', axis=1)\\ny_sample = df_sample[\\'views\\']\\n\\n# Escalar las características\\nscaler = StandardScaler()\\nX_scaled = scaler.fit_transform(X_sample)\\n\\n# Dividir los datos escalados en conjunto de entrenamiento y prueba\\nX_train, X_test, y_train, y_test = train_test_split(X_scaled, y_sample, test_size=0.3, random_state=42)\\n\\n# Inicializar el modelo\\nsvm_model = SVC(kernel=\\'linear\\', verbose=False)\\n\\n# Entrenar el modelo\\nprint(\"Entrenando el modelo...\")\\nsvm_model.fit(X_train, y_train)\\n\\n# Predicciones\\nprint(\"Haciendo predicciones...\")\\ny_pred_svm = svm_model.predict(X_test)\\n\\n# Evaluación del modelo\\nprint(\"Support Vector Machine (SVM):\")\\nprint(\"Accuracy:\", accuracy_score(y_test, y_pred_svm))\\nprint(\"Confusion Matrix:\\n\", confusion_matrix(y_test, y_pred_svm))\\nprint(\"Classification Report:\\n\", classification_report(y_test, y_pred_svm))\\n'"
      ]
     },
     "execution_count": 52,
     "metadata": {},
     "output_type": "execute_result"
    }
   ],
   "source": [
    "\"\"\"\n",
    "import pandas as pd\n",
    "from sklearn.model_selection import train_test_split\n",
    "from sklearn.svm import SVC\n",
    "from sklearn.metrics import classification_report, accuracy_score, confusion_matrix\n",
    "from sklearn.preprocessing import LabelEncoder, StandardScaler\n",
    "\n",
    "# Cargar tus datos en un DataFrame\n",
    "df = pd.read_csv('C:/Users/Usuario/Desktop/master/practica final/youtube-new/combined_videos_trabajo.csv')\n",
    "\n",
    "# Verificar las primeras filas del DataFrame\n",
    "print(\"Primeros registros del DataFrame:\")\n",
    "print(df.head())\n",
    "\n",
    "# Seleccionar columnas útiles y eliminar las menos útiles\n",
    "columns_to_keep = ['category_id', 'views', 'likes', 'dislikes', 'comment_count', 'comments_disabled', 'ratings_disabled', 'video_error_or_removed', 'region']\n",
    "df_cleaned = df[columns_to_keep].copy()\n",
    "\n",
    "# Codificar variables categóricas\n",
    "label_encoders = {}\n",
    "for column in ['category_id', 'region']:\n",
    "    le = LabelEncoder()\n",
    "    df_cleaned[column] = le.fit_transform(df_cleaned[column])\n",
    "    label_encoders[column] = le\n",
    "\n",
    "print(\"\\nDatos después de la codificación:\")\n",
    "print(df_cleaned.head())\n",
    "\n",
    "# Seleccionar una muestra más pequeña para pruebas rápidas\n",
    "df_sample = df_cleaned.sample(frac=0.1, random_state=42)  # Tomar el 10% de los datos para pruebas rápidas\n",
    "X_sample = df_sample.drop('views', axis=1)\n",
    "y_sample = df_sample['views']\n",
    "\n",
    "# Escalar las características\n",
    "scaler = StandardScaler()\n",
    "X_scaled = scaler.fit_transform(X_sample)\n",
    "\n",
    "# Dividir los datos escalados en conjunto de entrenamiento y prueba\n",
    "X_train, X_test, y_train, y_test = train_test_split(X_scaled, y_sample, test_size=0.3, random_state=42)\n",
    "\n",
    "# Inicializar el modelo\n",
    "svm_model = SVC(kernel='linear', verbose=False)\n",
    "\n",
    "# Entrenar el modelo\n",
    "print(\"Entrenando el modelo...\")\n",
    "svm_model.fit(X_train, y_train)\n",
    "\n",
    "# Predicciones\n",
    "print(\"Haciendo predicciones...\")\n",
    "y_pred_svm = svm_model.predict(X_test)\n",
    "\n",
    "# Evaluación del modelo\n",
    "print(\"Support Vector Machine (SVM):\")\n",
    "print(\"Accuracy:\", accuracy_score(y_test, y_pred_svm))\n",
    "print(\"Confusion Matrix:\\n\", confusion_matrix(y_test, y_pred_svm))\n",
    "print(\"Classification Report:\\n\", classification_report(y_test, y_pred_svm))\n",
    "\"\"\"\n"
   ]
  },
  {
   "cell_type": "markdown",
   "id": "e8ec9825-181c-4206-9204-d61aa55e3911",
   "metadata": {
    "tags": []
   },
   "source": [
    "Este modelo no soporta datasets grandes por lo tanto no puede ser aplicado"
   ]
  },
  {
   "cell_type": "markdown",
   "id": "e8149c1e-da8a-4947-929c-5617cf04bf2f",
   "metadata": {},
   "source": [
    "6.3 Optimizacion de Hiperparametros"
   ]
  },
  {
   "cell_type": "code",
   "execution_count": 55,
   "id": "936023e0-8f10-4ee5-adfe-f5d40a8dadbd",
   "metadata": {
    "tags": []
   },
   "outputs": [
    {
     "name": "stdout",
     "output_type": "stream",
     "text": [
      "Fitting 3 folds for each of 10 candidates, totalling 30 fits\n",
      "Optimized Random Forest Classifier:\n",
      "[[  164     0     0     0     0     0     0     0     0     0     0     0\n",
      "      0     0     0     0]\n",
      " [    0  6778     0     0    10     0     0     0     0     0     0     0\n",
      "      0     0     0     0]\n",
      " [    0     0  2464     0     0     0     0     0     0     0     0     0\n",
      "      0     0     0     0]\n",
      " [    0     0     0 33496     0     0     0     0     0     0     0     0\n",
      "      0     0     0     0]\n",
      " [    0    13     0     0  3264     0     0     0     0     0     0     0\n",
      "      0     0     0     0]\n",
      " [    0     0     0     0     0   133     0     0     0     0     0     0\n",
      "      0     0     0     0]\n",
      " [    0     0     0     0     0     0  1702     0     0     0     0     0\n",
      "      0     0     0     0]\n",
      " [    0     0     0     0     0     0     0    31     0     0     0     0\n",
      "      0     0     0     0]\n",
      " [    0     0     0     0     0     0     0     0  7623     0     0     0\n",
      "      0     0     0     0]\n",
      " [    0     0     0     0     0     0     0     0     0 10659     0     0\n",
      "      0     0     0     0]\n",
      " [    0     0     0     0     0     0     0     0     0     0  5183     0\n",
      "      0     0     0     0]\n",
      " [    0     0     0     0     0     0     0     0     0     0     0     2\n",
      "      0     0     0     0]\n",
      " [    0     0     0     0     3     0     0     0     0     0     0     0\n",
      "   1104     0     0     0]\n",
      " [    0     0     0     0     0     0     0     0     0     0     0     0\n",
      "      0   396     0     0]\n",
      " [    0     0     0     0     0     0     0     0     0     0     0     0\n",
      "      0     0  1452     0]\n",
      " [    0     0     0     0     0     0     0     0     0     0     0     0\n",
      "      0     0     0    17]]\n",
      "                      precision    recall  f1-score   support\n",
      "\n",
      "    Autos & Vehicles       1.00      1.00      1.00       164\n",
      "              Comedy       1.00      1.00      1.00      6788\n",
      "           Education       1.00      1.00      1.00      2464\n",
      "       Entertainment       1.00      1.00      1.00     33496\n",
      "    Film & Animation       1.00      1.00      1.00      3277\n",
      "              Gaming       1.00      1.00      1.00       133\n",
      "       Howto & Style       1.00      1.00      1.00      1702\n",
      "              Movies       1.00      1.00      1.00        31\n",
      "               Music       1.00      1.00      1.00      7623\n",
      "     News & Politics       1.00      1.00      1.00     10659\n",
      "      People & Blogs       1.00      1.00      1.00      5183\n",
      "      Pets & Animals       1.00      1.00      1.00         2\n",
      "Science & Technology       1.00      1.00      1.00      1107\n",
      "               Shows       1.00      1.00      1.00       396\n",
      "              Sports       1.00      1.00      1.00      1452\n",
      "     Travel & Events       1.00      1.00      1.00        17\n",
      "\n",
      "            accuracy                           1.00     74494\n",
      "           macro avg       1.00      1.00      1.00     74494\n",
      "        weighted avg       1.00      1.00      1.00     74494\n",
      "\n"
     ]
    }
   ],
   "source": [
    "from sklearn.ensemble import RandomForestClassifier\n",
    "from sklearn.model_selection import RandomizedSearchCV\n",
    "from sklearn.metrics import classification_report, accuracy_score, confusion_matrix\n",
    "import numpy as np\n",
    "\n",
    "#Definir los parametros que queremos optimizar\n",
    "param_dist = {\n",
    "    'n_estimators': [100, 200, 300],\n",
    "    'max_depth': [10,20, 30, None],\n",
    "    'min_samples_split': [2, 5, 10],\n",
    "    'min_samples_leaf': [1, 2, 4], #parametro adicional para mejor control\n",
    "    'bootstrap': [True, False] #Agregué bootstrap para mas variabilidad\n",
    "}\n",
    "\n",
    "#configuracion del RandomizedSearchCV\n",
    "rf_model = RandomForestClassifier(random_state=42)\n",
    "random_search = RandomizedSearchCV(estimator=rf_model, param_distributions=param_dist,\n",
    "                                   n_iter=10, cv=3, n_jobs=-1, verbose=2, random_state=42)\n",
    "\n",
    "#Ajustar el modelo\n",
    "random_search.fit(X_train, y_train)\n",
    "\n",
    "#mejor modelo encontrado\n",
    "best_rf_model = random_search.best_estimator_\n",
    "\n",
    "#predicciones con el mejor modelo\n",
    "y_pred_optimized = best_rf_model.predict(X_test)\n",
    "\n",
    "#Evaluacion del modelo optimizado\n",
    "print(\"Optimized Random Forest Classifier:\")\n",
    "print(confusion_matrix(y_test, y_pred_optimized))\n",
    "print(classification_report(y_test, y_pred_optimized))\n"
   ]
  },
  {
   "cell_type": "markdown",
   "id": "b694464c-61a4-4c2b-9946-d4533e7dec18",
   "metadata": {},
   "source": [
    "Como podemos observar el modelo Random forest que hemos entrenado está prediciendo todas las clases de manera perfecta, con una precisión del 100% en todos los casos."
   ]
  },
  {
   "cell_type": "markdown",
   "id": "251465e0-9945-42b4-a9c9-f9acef66bc65",
   "metadata": {},
   "source": [
    "6.4 Analisis de Importancia de Caracteristicas\n",
    "Finalmente, analizamos que caracteristicas fueron mas importantes para el modelo optimizado."
   ]
  },
  {
   "cell_type": "code",
   "execution_count": 58,
   "id": "48c6e353-1116-41c8-86b0-2fce871758b7",
   "metadata": {
    "tags": []
   },
   "outputs": [
    {
     "data": {
      "image/png": "[encoded data removed]",
      "text/plain": [
       "<Figure size 1200x600 with 1 Axes>"
      ]
     },
     "metadata": {},
     "output_type": "display_data"
    }
   ],
   "source": [
    "import numpy as np\n",
    "\n",
    "#importancia de caracteristicas\n",
    "importances = best_rf_model.feature_importances_\n",
    "indices = np.argsort(importances)[::-1]\n",
    "\n",
    "#grafico de importancia de caracteristicas\n",
    "plt.figure(figsize=(12,6))\n",
    "plt.title(\"Importancia de caracteristicas\")\n",
    "plt.bar(range(X.shape[1]), importances[indices], align=\"center\")\n",
    "plt.xticks(range(X.shape[1]), [X.columns[i] for i in indices], rotation=90)\n",
    "plt.show()\n"
   ]
  },
  {
   "cell_type": "markdown",
   "id": "a5568d1b-bd6d-475a-9059-f82ee3a5e802",
   "metadata": {},
   "source": [
    "importancia de caracteristicas: Nos ayuda a entender que variables influyen mas en la prediccion de la popularidad de los canales, como podemos observar las características con mayor impacto son 'likes y views'"
   ]
  },
  {
   "cell_type": "markdown",
   "id": "e93ee95a-923c-4e9f-820e-270aa31023a7",
   "metadata": {},
   "source": [
    "PREDICCIÓN DEL NÚMERO DE LIKES"
   ]
  },
  {
   "cell_type": "code",
   "execution_count": 61,
   "id": "ebb15829-cd4a-492b-a6b6-64378c08050b",
   "metadata": {
    "tags": []
   },
   "outputs": [
    {
     "name": "stdout",
     "output_type": "stream",
     "text": [
      "Index(['video_id', 'trending_date', 'title', 'channel_title', 'category_id',\n",
      "       'publish_time', 'tags', 'views', 'likes', 'dislikes', 'comment_count',\n",
      "       'thumbnail_link', 'comments_disabled', 'ratings_disabled',\n",
      "       'video_error_or_removed', 'description', 'region'],\n",
      "      dtype='object')\n",
      "MSE: 1743620343.0932477\n",
      "R^2 Score: 0.8245193774504704\n"
     ]
    }
   ],
   "source": [
    "import pandas as pd\n",
    "from sklearn.linear_model import LinearRegression\n",
    "from sklearn.model_selection import train_test_split\n",
    "from sklearn.metrics import mean_squared_error, r2_score\n",
    "from sklearn.preprocessing import LabelEncoder\n",
    "\n",
    "#Imprimo las columnas del Dataframe\n",
    "print(df.columns)\n",
    "\n",
    "#elimino las columnas irrelevantes que no aportan nada a la predicción y que son no numéricas\n",
    "columnas_a_eliminar = ['video_id']\n",
    "\n",
    "#verificar si las columnas existen antes de eliminarlas\n",
    "df_clean = df.drop(columns=[col for col  in columnas_a_eliminar if col in df.columns])\n",
    "\n",
    "#convertir columnas categóricas a valores numéricos usando LabelEncoder\n",
    "label_encoder = LabelEncoder()\n",
    "\n",
    "for column in df_clean.columns:\n",
    "    if df_clean[column].dtype == 'object':\n",
    "        try:\n",
    "            df_clean[column] = pd.to_numeric(df_clean[column], errors='raise')\n",
    "        except:\n",
    "            df_clean[column] = label_encoder.fit_transform(df_clean[column])\n",
    "                                             \n",
    "#Definir X e y\n",
    "X = df_clean.drop('likes', axis=1)\n",
    "y = df_clean['likes']\n",
    "             \n",
    "             \n",
    "#Dividir los datos en conjuntos de entrenamiento y prueba\n",
    "X_train, X_test, y_train_likes, y_test_likes = train_test_split(X, y, test_size=0.2, random_state=42)\n",
    "             \n",
    "#inicializar el modelo de regresion lineal\n",
    "lr_model = LinearRegression()\n",
    "             \n",
    "#Entrenar el modelo\n",
    "lr_model.fit(X_train, y_train_likes)\n",
    "             \n",
    "#hacer predicciones en el conjunto de prueba\n",
    "y_pred_likes = lr_model.predict(X_test)\n",
    "             \n",
    "#evaluar el modelo\n",
    "mse = mean_squared_error(y_test_likes, y_pred_likes)\n",
    "r2 = r2_score(y_test_likes, y_pred_likes)\n",
    "             \n",
    "#imprimir los resultados\n",
    "print('MSE:', mse)\n",
    "print('R^2 Score:', r2)                                     "
   ]
  },
  {
   "cell_type": "markdown",
   "id": "e7f9d7fc-c3ca-49b0-891a-1daa5cebc12c",
   "metadata": {},
   "source": [
    "Como podemos observar el MSE(Error cuadratico medio) es bastante alto, por lo que se podrian mejorar las predicciones. Lo he intentado eliminando mas columnas(title, channel_title, tags, etc) ya que son cadenas de texto pero no cambiaba el MSE asi que he eliminado solo la de video_id. Pero el modelo entrena con exito ya que nos muestra un 0.82 de la varibilidad de likes."
   ]
  },
  {
   "cell_type": "markdown",
   "id": "9ad7a465-5112-4744-80f9-25e6d78bfe8d",
   "metadata": {},
   "source": [
    "CLUSTERIZACIÓN"
   ]
  },
  {
   "cell_type": "code",
   "execution_count": 64,
   "id": "f5e1e2b3-50f9-4662-a7dc-d0e0a940282e",
   "metadata": {
    "tags": []
   },
   "outputs": [
    {
     "data": {
      "image/png": "[encoded data removed]",
      "text/plain": [
       "<Figure size 640x480 with 1 Axes>"
      ]
     },
     "metadata": {},
     "output_type": "display_data"
    }
   ],
   "source": [
    "from sklearn.decomposition import PCA\n",
    "from sklearn.cluster import KMeans\n",
    "import matplotlib.pyplot as plt\n",
    "\n",
    "#inicializar PCA\n",
    "pca= PCA(n_components=2) #Reducir a 2 dimensiones\n",
    "\n",
    "#aplicar PCA a los datos\n",
    "X_reduced = pca.fit_transform(X)\n",
    "\n",
    "#inicializar el modelo y entrenar el modelo\n",
    "kmeans = KMeans(n_clusters=5, n_init=10)\n",
    "kmeans.fit(X_reduced)\n",
    "\n",
    "#obtener los clusters\n",
    "clusters = kmeans.predict(X_reduced)\n",
    "\n",
    "#visualizar\n",
    "plt.scatter(X_reduced[:, 0], X_reduced[:, 1], c=clusters)\n",
    "plt.show()\n",
    "\n"
   ]
  },
  {
   "cell_type": "markdown",
   "id": "6b2a1986-8f70-42fe-83ed-21f01bdb1882",
   "metadata": {},
   "source": [
    "He utilizado la técnica PCA(Analisis de Componentes Principales): Identifica las direcciones de mayor varianza en los datos y proyecta los datos en un subespacio de menor dimensión. \n",
    "-Cada punto en la grafica representa un video de mi conjunto de datos y los diferentes colores son los distintos clusters a los que pertenecen los videos. \n",
    "-Por poner un ejemplo los puntos agrupados en la esquina superior izquierda prodrian representar videos con ciertas caracteristicas en común, como una duracion determinada o un genero específico."
   ]
  },
  {
   "cell_type": "markdown",
   "id": "c9f5f0c6-e9de-4b43-83b0-a6f3bda75e72",
   "metadata": {},
   "source": [
    "RECOMENDACIÓN"
   ]
  },
  {
   "cell_type": "code",
   "execution_count": 67,
   "id": "2bbf85d7-bdac-47db-898f-01f1ea26541e",
   "metadata": {},
   "outputs": [
    {
     "name": "stdout",
     "output_type": "stream",
     "text": [
      "[61 60 71  9 45]\n"
     ]
    }
   ],
   "source": [
    "from sklearn.metrics.pairwise import cosine_similarity\n",
    "import numpy as np\n",
    "\n",
    "#reducimos el tamaño de los datos \n",
    "sample_size = 100 #Ajustamos este tamaño segun la memoria de la que disponemos\n",
    "X_sample = X[:sample_size]\n",
    "\n",
    "#Calculamos la similitud coseno entre los videos del subconjunto\n",
    "similarities = cosine_similarity(X_sample)\n",
    "\n",
    "#Encontrar los videos similares\n",
    "def recommend(video_index, top_n=5):\n",
    "    if video_index >= sample_size:\n",
    "        raise IndexError(\"video_index fuera de rango\")\n",
    "    similar_indices = similarities[video_index].argsort()[-top_n-1:-1] #excluye el propio video\n",
    "    return similar_indices\n",
    "\n",
    "#Recomendar videos similares al video en la posición 0\n",
    "print(recommend(0))"
   ]
  },
  {
   "cell_type": "code",
   "execution_count": null,
   "id": "bbe35113-be5d-4fc4-b709-185a3ff21490",
   "metadata": {},
   "outputs": [],
   "source": []
  }
 ],
 "metadata": {
  "kernelspec": {
   "display_name": "Python 3 (ipykernel)",
   "language": "python",
   "name": "python3"
  },
  "language_info": {
   "codemirror_mode": {
    "name": "ipython",
    "version": 3
   },
   "file_extension": ".py",
   "mimetype": "text/x-python",
   "name": "python",
   "nbconvert_exporter": "python",
   "pygments_lexer": "ipython3",
   "version": "3.11.5"
  }
 },
 "nbformat": 4,
 "nbformat_minor": 5
}
